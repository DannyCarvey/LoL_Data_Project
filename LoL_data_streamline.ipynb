{
 "cells": [
  {
   "cell_type": "code",
   "execution_count": 38,
   "metadata": {},
   "outputs": [],
   "source": [
    "import re\n",
    "import pickle\n",
    "import numpy as np\n",
    "import pandas as pd\n",
    "import matplotlib.pyplot as plt\n",
    "from sklearn.metrics import mean_absolute_error\n",
    "from category_encoders import OrdinalEncoder\n",
    "from sklearn.pipeline import make_pipeline\n",
    "from sklearn.impute import SimpleImputer\n",
    "from sklearn.tree import DecisionTreeClassifier, plot_tree\n",
    "from sklearn.ensemble import RandomForestClassifier\n",
    "from sklearn.linear_model import LogisticRegression\n",
    "from sklearn.preprocessing import StandardScaler\n",
    "from sklearn.model_selection import cross_val_score, train_test_split # k-fold CV\n",
    "from sklearn.model_selection import GridSearchCV"
   ]
  },
  {
   "cell_type": "code",
   "execution_count": 2,
   "metadata": {},
   "outputs": [],
   "source": [
    "champ_df = pd.read_csv('LoL_Data/champion_stats.csv')\n",
    "player_df = pd.read_csv('LoL_Data/player_stats.csv')\n",
    "match_df = pd.read_csv('LoL_Data/match_stats.csv')"
   ]
  },
  {
   "cell_type": "code",
   "execution_count": 3,
   "metadata": {},
   "outputs": [],
   "source": [
    "# make new dataframe with as much relevant data as possible including target.\n",
    "def wrangle(df):\n",
    "    cutoff = 50\n",
    "    p = \"(ban|pick)\"\n",
    "    pa = \"(kill_death_assist_ratio|win_rate)\"\n",
    "    drop_cols = []\n",
    "    df = df.loc[df['event'] == 'Main']\n",
    "\n",
    "    drop_cols.append('event')\n",
    "\n",
    "    for col in df.columns:\n",
    "        if col == 'date':\n",
    "            drop_cols.append(col)\n",
    "        elif re.match(p, col) != None:\n",
    "            drop_cols.append(col)\n",
    "        elif re.fullmatch(pa, col) != None:\n",
    "            drop_cols.append(col)\n",
    "        elif df[col].isnull().sum() > cutoff:\n",
    "            drop_cols.append(col)\n",
    "\n",
    "    df.drop(columns=drop_cols, inplace=True)\n",
    "\n",
    "    return df"
   ]
  },
  {
   "cell_type": "code",
   "execution_count": 4,
   "metadata": {},
   "outputs": [],
   "source": [
    "def set_season(df, season):\n",
    "    return df[df['season'] == season]\n"
   ]
  },
  {
   "cell_type": "code",
   "execution_count": 5,
   "metadata": {},
   "outputs": [
    {
     "name": "stderr",
     "output_type": "stream",
     "text": [
      "C:\\Users\\Jak\\AppData\\Local\\Temp\\ipykernel_27876\\3680867569.py:21: SettingWithCopyWarning: \n",
      "A value is trying to be set on a copy of a slice from a DataFrame\n",
      "\n",
      "See the caveats in the documentation: https://pandas.pydata.org/pandas-docs/stable/user_guide/indexing.html#returning-a-view-versus-a-copy\n",
      "  df.drop(columns=drop_cols, inplace=True)\n",
      "C:\\Users\\Jak\\AppData\\Local\\Temp\\ipykernel_27876\\3680867569.py:21: SettingWithCopyWarning: \n",
      "A value is trying to be set on a copy of a slice from a DataFrame\n",
      "\n",
      "See the caveats in the documentation: https://pandas.pydata.org/pandas-docs/stable/user_guide/indexing.html#returning-a-view-versus-a-copy\n",
      "  df.drop(columns=drop_cols, inplace=True)\n"
     ]
    }
   ],
   "source": [
    "mdf = wrangle(match_df)\n",
    "pdf = wrangle(player_df)"
   ]
  },
  {
   "cell_type": "code",
   "execution_count": 6,
   "metadata": {},
   "outputs": [
    {
     "data": {
      "text/plain": [
       "Index(['season', 'blue_team', 'red_team', 'winner', 'top_blue_team',\n",
       "       'jungler_blue_team', 'mid_blue_team', 'adc_blue_team',\n",
       "       'support_blue_team', 'top_red_team', 'jungler_red_team', 'mid_red_team',\n",
       "       'adc_red_team', 'support_red_team'],\n",
       "      dtype='object')"
      ]
     },
     "execution_count": 6,
     "metadata": {},
     "output_type": "execute_result"
    }
   ],
   "source": [
    "# This is all info I want to use so we'll join pdf info here on season\n",
    "mdf.columns"
   ]
  },
  {
   "cell_type": "code",
   "execution_count": 7,
   "metadata": {},
   "outputs": [
    {
     "data": {
      "text/plain": [
       "Index(['season', 'team', 'player', 'games_played', 'wins', 'loses', 'kills',\n",
       "       'deaths', 'assists', 'creep_score', 'cs/min', 'gold', 'gold/min'],\n",
       "      dtype='object')"
      ]
     },
     "execution_count": 7,
     "metadata": {},
     "output_type": "execute_result"
    }
   ],
   "source": [
    "# I want team, player, gold/min from pdf\n",
    "pdf.columns"
   ]
  },
  {
   "cell_type": "code",
   "execution_count": 46,
   "metadata": {},
   "outputs": [],
   "source": [
    "season = 8\n",
    "\n",
    "season_players, season_matches = set_season(pdf, season), set_season(mdf, season)"
   ]
  },
  {
   "cell_type": "code",
   "execution_count": 47,
   "metadata": {},
   "outputs": [
    {
     "name": "stderr",
     "output_type": "stream",
     "text": [
      "C:\\Users\\Jak\\AppData\\Local\\Temp\\ipykernel_27876\\1819096043.py:5: SettingWithCopyWarning: \n",
      "A value is trying to be set on a copy of a slice from a DataFrame\n",
      "\n",
      "See the caveats in the documentation: https://pandas.pydata.org/pandas-docs/stable/user_guide/indexing.html#returning-a-view-versus-a-copy\n",
      "  season_players.drop(columns=col, inplace=True)\n",
      "C:\\Users\\Jak\\AppData\\Local\\Temp\\ipykernel_27876\\1819096043.py:5: SettingWithCopyWarning: \n",
      "A value is trying to be set on a copy of a slice from a DataFrame\n",
      "\n",
      "See the caveats in the documentation: https://pandas.pydata.org/pandas-docs/stable/user_guide/indexing.html#returning-a-view-versus-a-copy\n",
      "  season_players.drop(columns=col, inplace=True)\n",
      "C:\\Users\\Jak\\AppData\\Local\\Temp\\ipykernel_27876\\1819096043.py:5: SettingWithCopyWarning: \n",
      "A value is trying to be set on a copy of a slice from a DataFrame\n",
      "\n",
      "See the caveats in the documentation: https://pandas.pydata.org/pandas-docs/stable/user_guide/indexing.html#returning-a-view-versus-a-copy\n",
      "  season_players.drop(columns=col, inplace=True)\n",
      "C:\\Users\\Jak\\AppData\\Local\\Temp\\ipykernel_27876\\1819096043.py:5: SettingWithCopyWarning: \n",
      "A value is trying to be set on a copy of a slice from a DataFrame\n",
      "\n",
      "See the caveats in the documentation: https://pandas.pydata.org/pandas-docs/stable/user_guide/indexing.html#returning-a-view-versus-a-copy\n",
      "  season_players.drop(columns=col, inplace=True)\n",
      "C:\\Users\\Jak\\AppData\\Local\\Temp\\ipykernel_27876\\1819096043.py:5: SettingWithCopyWarning: \n",
      "A value is trying to be set on a copy of a slice from a DataFrame\n",
      "\n",
      "See the caveats in the documentation: https://pandas.pydata.org/pandas-docs/stable/user_guide/indexing.html#returning-a-view-versus-a-copy\n",
      "  season_players.drop(columns=col, inplace=True)\n",
      "C:\\Users\\Jak\\AppData\\Local\\Temp\\ipykernel_27876\\1819096043.py:5: SettingWithCopyWarning: \n",
      "A value is trying to be set on a copy of a slice from a DataFrame\n",
      "\n",
      "See the caveats in the documentation: https://pandas.pydata.org/pandas-docs/stable/user_guide/indexing.html#returning-a-view-versus-a-copy\n",
      "  season_players.drop(columns=col, inplace=True)\n",
      "C:\\Users\\Jak\\AppData\\Local\\Temp\\ipykernel_27876\\1819096043.py:5: SettingWithCopyWarning: \n",
      "A value is trying to be set on a copy of a slice from a DataFrame\n",
      "\n",
      "See the caveats in the documentation: https://pandas.pydata.org/pandas-docs/stable/user_guide/indexing.html#returning-a-view-versus-a-copy\n",
      "  season_players.drop(columns=col, inplace=True)\n",
      "C:\\Users\\Jak\\AppData\\Local\\Temp\\ipykernel_27876\\1819096043.py:5: SettingWithCopyWarning: \n",
      "A value is trying to be set on a copy of a slice from a DataFrame\n",
      "\n",
      "See the caveats in the documentation: https://pandas.pydata.org/pandas-docs/stable/user_guide/indexing.html#returning-a-view-versus-a-copy\n",
      "  season_players.drop(columns=col, inplace=True)\n",
      "C:\\Users\\Jak\\AppData\\Local\\Temp\\ipykernel_27876\\1819096043.py:5: SettingWithCopyWarning: \n",
      "A value is trying to be set on a copy of a slice from a DataFrame\n",
      "\n",
      "See the caveats in the documentation: https://pandas.pydata.org/pandas-docs/stable/user_guide/indexing.html#returning-a-view-versus-a-copy\n",
      "  season_players.drop(columns=col, inplace=True)\n",
      "C:\\Users\\Jak\\AppData\\Local\\Temp\\ipykernel_27876\\1819096043.py:5: SettingWithCopyWarning: \n",
      "A value is trying to be set on a copy of a slice from a DataFrame\n",
      "\n",
      "See the caveats in the documentation: https://pandas.pydata.org/pandas-docs/stable/user_guide/indexing.html#returning-a-view-versus-a-copy\n",
      "  season_players.drop(columns=col, inplace=True)\n"
     ]
    }
   ],
   "source": [
    "for col in season_players.columns:\n",
    "    if col in ['team', 'player', 'gold/min']:\n",
    "        continue\n",
    "    else:\n",
    "        season_players.drop(columns=col, inplace=True)"
   ]
  },
  {
   "cell_type": "code",
   "execution_count": 48,
   "metadata": {},
   "outputs": [
    {
     "name": "stderr",
     "output_type": "stream",
     "text": [
      "C:\\Users\\Jak\\AppData\\Local\\Temp\\ipykernel_27876\\4059807213.py:3: SettingWithCopyWarning: \n",
      "A value is trying to be set on a copy of a slice from a DataFrame.\n",
      "Try using .loc[row_indexer,col_indexer] = value instead\n",
      "\n",
      "See the caveats in the documentation: https://pandas.pydata.org/pandas-docs/stable/user_guide/indexing.html#returning-a-view-versus-a-copy\n",
      "  season_matches['blue_win'] = 0\n",
      "C:\\Users\\Jak\\AppData\\Local\\Temp\\ipykernel_27876\\4059807213.py:7: SettingWithCopyWarning: \n",
      "A value is trying to be set on a copy of a slice from a DataFrame\n",
      "\n",
      "See the caveats in the documentation: https://pandas.pydata.org/pandas-docs/stable/user_guide/indexing.html#returning-a-view-versus-a-copy\n",
      "  season_matches['blue_win'][match] = 1\n"
     ]
    }
   ],
   "source": [
    "# gunna add a 'blue_win' binary column. if blue team won give them a 1 else 0\n",
    "\n",
    "season_matches['blue_win'] = 0\n",
    "\n",
    "for match in season_matches.index:\n",
    "    if season_matches['blue_team'][match] == season_matches['winner'][match]:\n",
    "        season_matches['blue_win'][match] = 1"
   ]
  },
  {
   "cell_type": "code",
   "execution_count": 49,
   "metadata": {},
   "outputs": [],
   "source": [
    "# now that we've made a season, 'player' is a unique value suited to indexing\n",
    "season_players.set_index('player', inplace=True)"
   ]
  },
  {
   "cell_type": "code",
   "execution_count": 50,
   "metadata": {},
   "outputs": [
    {
     "name": "stderr",
     "output_type": "stream",
     "text": [
      "C:\\Users\\Jak\\AppData\\Local\\Temp\\ipykernel_27876\\3860201109.py:3: SettingWithCopyWarning: \n",
      "A value is trying to be set on a copy of a slice from a DataFrame\n",
      "\n",
      "See the caveats in the documentation: https://pandas.pydata.org/pandas-docs/stable/user_guide/indexing.html#returning-a-view-versus-a-copy\n",
      "  season_matches.drop(columns=['season', 'red_team', 'blue_team', 'winner'], inplace=True)\n"
     ]
    }
   ],
   "source": [
    "# matches will keep a normal index for convienience\n",
    "\n",
    "season_matches.drop(columns=['season', 'red_team', 'blue_team', 'winner'], inplace=True)"
   ]
  },
  {
   "cell_type": "code",
   "execution_count": 51,
   "metadata": {},
   "outputs": [
    {
     "data": {
      "text/plain": [
       "Index(['team', 'gold/min'], dtype='object')"
      ]
     },
     "execution_count": 51,
     "metadata": {},
     "output_type": "execute_result"
    }
   ],
   "source": [
    "season_players.columns"
   ]
  },
  {
   "cell_type": "code",
   "execution_count": 52,
   "metadata": {},
   "outputs": [
    {
     "data": {
      "text/plain": [
       "Index(['top_blue_team', 'jungler_blue_team', 'mid_blue_team', 'adc_blue_team',\n",
       "       'support_blue_team', 'top_red_team', 'jungler_red_team', 'mid_red_team',\n",
       "       'adc_red_team', 'support_red_team', 'blue_win'],\n",
       "      dtype='object')"
      ]
     },
     "execution_count": 52,
     "metadata": {},
     "output_type": "execute_result"
    }
   ],
   "source": [
    "season_matches.columns"
   ]
  },
  {
   "cell_type": "code",
   "execution_count": 53,
   "metadata": {},
   "outputs": [
    {
     "name": "stderr",
     "output_type": "stream",
     "text": [
      "C:\\Users\\Jak\\AppData\\Local\\Temp\\ipykernel_27876\\1155664163.py:9: SettingWithCopyWarning: \n",
      "A value is trying to be set on a copy of a slice from a DataFrame\n",
      "\n",
      "See the caveats in the documentation: https://pandas.pydata.org/pandas-docs/stable/user_guide/indexing.html#returning-a-view-versus-a-copy\n",
      "  season_matches[col][match] = season_players.at[season_matches[col][match].strip(), 'gold/min']\n"
     ]
    }
   ],
   "source": [
    "# this method struggled because players that appeared in multiple seasons have multiple values. \n",
    "# This probably leaked in with the team gold stats from before as well. Hence the new set_season()\n",
    "\n",
    "for match in season_matches.index:\n",
    "    for col in season_matches:\n",
    "        if col == 'blue_win':\n",
    "            continue\n",
    "        elif season_matches[col][match].strip() in season_players.index:\n",
    "            season_matches[col][match] = season_players.at[season_matches[col][match].strip(), 'gold/min']"
   ]
  },
  {
   "cell_type": "code",
   "execution_count": 54,
   "metadata": {},
   "outputs": [
    {
     "data": {
      "text/html": [
       "<div>\n",
       "<style scoped>\n",
       "    .dataframe tbody tr th:only-of-type {\n",
       "        vertical-align: middle;\n",
       "    }\n",
       "\n",
       "    .dataframe tbody tr th {\n",
       "        vertical-align: top;\n",
       "    }\n",
       "\n",
       "    .dataframe thead th {\n",
       "        text-align: right;\n",
       "    }\n",
       "</style>\n",
       "<table border=\"1\" class=\"dataframe\">\n",
       "  <thead>\n",
       "    <tr style=\"text-align: right;\">\n",
       "      <th></th>\n",
       "      <th>top_blue_team</th>\n",
       "      <th>jungler_blue_team</th>\n",
       "      <th>mid_blue_team</th>\n",
       "      <th>adc_blue_team</th>\n",
       "      <th>support_blue_team</th>\n",
       "      <th>top_red_team</th>\n",
       "      <th>jungler_red_team</th>\n",
       "      <th>mid_red_team</th>\n",
       "      <th>adc_red_team</th>\n",
       "      <th>support_red_team</th>\n",
       "      <th>blue_win</th>\n",
       "    </tr>\n",
       "  </thead>\n",
       "  <tbody>\n",
       "    <tr>\n",
       "      <th>511</th>\n",
       "      <td>443</td>\n",
       "      <td>365</td>\n",
       "      <td>418</td>\n",
       "      <td>466</td>\n",
       "      <td>258</td>\n",
       "      <td>359</td>\n",
       "      <td>362</td>\n",
       "      <td>411</td>\n",
       "      <td>460</td>\n",
       "      <td>254</td>\n",
       "      <td>1</td>\n",
       "    </tr>\n",
       "    <tr>\n",
       "      <th>512</th>\n",
       "      <td>394</td>\n",
       "      <td>362</td>\n",
       "      <td>411</td>\n",
       "      <td>460</td>\n",
       "      <td>254</td>\n",
       "      <td>443</td>\n",
       "      <td>365</td>\n",
       "      <td>418</td>\n",
       "      <td>466</td>\n",
       "      <td>258</td>\n",
       "      <td>0</td>\n",
       "    </tr>\n",
       "    <tr>\n",
       "      <th>513</th>\n",
       "      <td>394</td>\n",
       "      <td>362</td>\n",
       "      <td>411</td>\n",
       "      <td>460</td>\n",
       "      <td>254</td>\n",
       "      <td>443</td>\n",
       "      <td>365</td>\n",
       "      <td>418</td>\n",
       "      <td>466</td>\n",
       "      <td>258</td>\n",
       "      <td>0</td>\n",
       "    </tr>\n",
       "    <tr>\n",
       "      <th>514</th>\n",
       "      <td>394</td>\n",
       "      <td>362</td>\n",
       "      <td>411</td>\n",
       "      <td>460</td>\n",
       "      <td>254</td>\n",
       "      <td>364</td>\n",
       "      <td>345</td>\n",
       "      <td>401</td>\n",
       "      <td>415</td>\n",
       "      <td>248</td>\n",
       "      <td>1</td>\n",
       "    </tr>\n",
       "    <tr>\n",
       "      <th>515</th>\n",
       "      <td>364</td>\n",
       "      <td>345</td>\n",
       "      <td>401</td>\n",
       "      <td>415</td>\n",
       "      <td>248</td>\n",
       "      <td>394</td>\n",
       "      <td>362</td>\n",
       "      <td>411</td>\n",
       "      <td>460</td>\n",
       "      <td>254</td>\n",
       "      <td>0</td>\n",
       "    </tr>\n",
       "  </tbody>\n",
       "</table>\n",
       "</div>"
      ],
      "text/plain": [
       "    top_blue_team jungler_blue_team mid_blue_team adc_blue_team  \\\n",
       "511           443               365           418           466   \n",
       "512           394               362           411           460   \n",
       "513           394               362           411           460   \n",
       "514           394               362           411           460   \n",
       "515           364               345           401           415   \n",
       "\n",
       "    support_blue_team top_red_team jungler_red_team mid_red_team adc_red_team  \\\n",
       "511               258          359              362          411          460   \n",
       "512               254          443              365          418          466   \n",
       "513               254          443              365          418          466   \n",
       "514               254          364              345          401          415   \n",
       "515               248          394              362          411          460   \n",
       "\n",
       "    support_red_team  blue_win  \n",
       "511              254         1  \n",
       "512              258         0  \n",
       "513              258         0  \n",
       "514              248         1  \n",
       "515              254         0  "
      ]
     },
     "execution_count": 54,
     "metadata": {},
     "output_type": "execute_result"
    }
   ],
   "source": [
    "season_matches.head()"
   ]
  },
  {
   "cell_type": "markdown",
   "metadata": {},
   "source": [
    "Some Old Code from the initial forest premise measuring side and position importances. Results were... don't worry about it."
   ]
  },
  {
   "cell_type": "code",
   "execution_count": 55,
   "metadata": {},
   "outputs": [],
   "source": [
    "# my first forest fits based on solely team and player names was very over-fit and mostly showed a very slight skew towards to blue team. (test score: .93, val score: .47)\n",
    "# Most positions registered as either equally important or with somewhat declining importance (almost exclusively biased against the red team) \n",
    "\n",
    "# Time to try with the second run. team's average gold/min. I expect similar results."
   ]
  },
  {
   "cell_type": "code",
   "execution_count": 56,
   "metadata": {},
   "outputs": [
    {
     "data": {
      "text/plain": [
       "\"\\nfor match in mdf2.index:\\n    if mdf2['red_team'][match] in gold_df.index:\\n        mdf2['red_team'][match] = gold_df.at[mdf2['red_team'][match], 'team_gold']\\n    if mdf2['blue_team'][match] in gold_df.index:\\n        mdf2['blue_team'][match] = gold_df.at[mdf2['blue_team'][match], 'team_gold']\\n    if mdf2['winner'][match] in gold_df.index:\\n        mdf2['winner'][match] = gold_df.at[mdf2['winner'][match], 'team_gold']\\n\\n\\nfor match in mdf2.index:\\n    for col in mdf2.columns:\\n        if type(mdf2[col][match]) == str:\\n            if mdf2[col][match].strip() in pdf.index:\\n                mdf2[col][match] = pdf.at[mdf2[col][match].strip(), 'gold/min']\\n\\ntarget = 'winner'\\n\\ny = mdf2[target]\\nX = mdf2.drop(columns=target)\\n\""
      ]
     },
     "execution_count": 56,
     "metadata": {},
     "output_type": "execute_result"
    }
   ],
   "source": [
    "'''\n",
    "for match in mdf2.index:\n",
    "    if mdf2['red_team'][match] in gold_df.index:\n",
    "        mdf2['red_team'][match] = gold_df.at[mdf2['red_team'][match], 'team_gold']\n",
    "    if mdf2['blue_team'][match] in gold_df.index:\n",
    "        mdf2['blue_team'][match] = gold_df.at[mdf2['blue_team'][match], 'team_gold']\n",
    "    if mdf2['winner'][match] in gold_df.index:\n",
    "        mdf2['winner'][match] = gold_df.at[mdf2['winner'][match], 'team_gold']\n",
    "\n",
    "\n",
    "for match in mdf2.index:\n",
    "    for col in mdf2.columns:\n",
    "        if type(mdf2[col][match]) == str:\n",
    "            if mdf2[col][match].strip() in pdf.index:\n",
    "                mdf2[col][match] = pdf.at[mdf2[col][match].strip(), 'gold/min']\n",
    "\n",
    "target = 'winner'\n",
    "\n",
    "y = mdf2[target]\n",
    "X = mdf2.drop(columns=target)\n",
    "'''"
   ]
  },
  {
   "cell_type": "code",
   "execution_count": 57,
   "metadata": {},
   "outputs": [],
   "source": [
    "# alright, now that the players have stats, I want to try classifying the winner based on the numbers rather than just the names?\n",
    "# not really sure how to do that at this exact moment. Might text Fabiola\n",
    "# check for linear regression correlation between gold and position? \n",
    "# May not be helpful as this is effectively asking 'do positions make different amounts' (should be true)\n",
    "\n",
    "# Stretch Note:\n",
    "# maybe I should just run the numbers on each position?\n",
    "# Maybe mark which number won and see if a pattern emerges for any position. "
   ]
  },
  {
   "cell_type": "code",
   "execution_count": 58,
   "metadata": {},
   "outputs": [],
   "source": [
    "target = 'blue_win'\n",
    "\n",
    "y = season_matches[target]\n",
    "X = season_matches.drop(columns=target)"
   ]
  },
  {
   "cell_type": "code",
   "execution_count": 59,
   "metadata": {},
   "outputs": [],
   "source": [
    "X_train, X_val, y_train, y_val = train_test_split(X, y, test_size=0.2, random_state=42)"
   ]
  },
  {
   "cell_type": "code",
   "execution_count": 60,
   "metadata": {},
   "outputs": [],
   "source": [
    "model_rf = make_pipeline(\n",
    "    OrdinalEncoder(),\n",
    "    RandomForestClassifier(random_state=42)\n",
    ")\n",
    "\n",
    "model_rf.fit(X_train, y_train);"
   ]
  },
  {
   "cell_type": "code",
   "execution_count": 61,
   "metadata": {},
   "outputs": [
    {
     "name": "stderr",
     "output_type": "stream",
     "text": [
      "c:\\Users\\Jak\\AppData\\Local\\Programs\\Python\\Python39\\lib\\site-packages\\category_encoders\\utils.py:360: FutureWarning: `get_feature_names` is deprecated in all of sklearn. Use `get_feature_names_out` instead.\n",
      "  warnings.warn(\"`get_feature_names` is deprecated in all of sklearn. Use `get_feature_names_out` instead.\",\n"
     ]
    },
    {
     "data": {
      "image/png": "[encoded data removed]",
      "text/plain": [
       "<Figure size 640x480 with 1 Axes>"
      ]
     },
     "metadata": {},
     "output_type": "display_data"
    }
   ],
   "source": [
    "features = model_rf.named_steps['ordinalencoder'].get_feature_names()\n",
    "gini = model_rf.named_steps['randomforestclassifier'].feature_importances_\n",
    "pd.Series(data=gini, index=features).sort_values(key=abs).plot(kind='barh')\n",
    "plt.ylabel('features')\n",
    "plt.xlabel('gini importance');"
   ]
  },
  {
   "cell_type": "code",
   "execution_count": 62,
   "metadata": {},
   "outputs": [],
   "source": [
    "# some basic cv\n",
    "model_rf_scores = cross_val_score(model_rf, X, y, cv=5)"
   ]
  },
  {
   "cell_type": "code",
   "execution_count": 63,
   "metadata": {},
   "outputs": [
    {
     "data": {
      "text/plain": [
       "array([0.5       , 0.5       , 0.66666667, 0.53333333, 0.6       ])"
      ]
     },
     "execution_count": 63,
     "metadata": {},
     "output_type": "execute_result"
    }
   ],
   "source": [
    "# hey one of these spit out a .83 !\n",
    "model_rf_scores"
   ]
  },
  {
   "cell_type": "code",
   "execution_count": 64,
   "metadata": {},
   "outputs": [],
   "source": [
    "# some more rigor please\n",
    "\n",
    "param_grid = {\n",
    "    'randomforestclassifier__max_depth': range(5,40,5),\n",
    "    'randomforestclassifier__n_estimators': range(25,125,25)\n",
    "}"
   ]
  },
  {
   "cell_type": "code",
   "execution_count": 65,
   "metadata": {},
   "outputs": [
    {
     "name": "stdout",
     "output_type": "stream",
     "text": [
      "Fitting 5 folds for each of 28 candidates, totalling 140 fits\n"
     ]
    },
    {
     "data": {
      "text/html": [
       "<style>#sk-container-id-3 {color: black;background-color: white;}#sk-container-id-3 pre{padding: 0;}#sk-container-id-3 div.sk-toggleable {background-color: white;}#sk-container-id-3 label.sk-toggleable__label {cursor: pointer;display: block;width: 100%;margin-bottom: 0;padding: 0.3em;box-sizing: border-box;text-align: center;}#sk-container-id-3 label.sk-toggleable__label-arrow:before {content: \"▸\";float: left;margin-right: 0.25em;color: #696969;}#sk-container-id-3 label.sk-toggleable__label-arrow:hover:before {color: black;}#sk-container-id-3 div.sk-estimator:hover label.sk-toggleable__label-arrow:before {color: black;}#sk-container-id-3 div.sk-toggleable__content {max-height: 0;max-width: 0;overflow: hidden;text-align: left;background-color: #f0f8ff;}#sk-container-id-3 div.sk-toggleable__content pre {margin: 0.2em;color: black;border-radius: 0.25em;background-color: #f0f8ff;}#sk-container-id-3 input.sk-toggleable__control:checked~div.sk-toggleable__content {max-height: 200px;max-width: 100%;overflow: auto;}#sk-container-id-3 input.sk-toggleable__control:checked~label.sk-toggleable__label-arrow:before {content: \"▾\";}#sk-container-id-3 div.sk-estimator input.sk-toggleable__control:checked~label.sk-toggleable__label {background-color: #d4ebff;}#sk-container-id-3 div.sk-label input.sk-toggleable__control:checked~label.sk-toggleable__label {background-color: #d4ebff;}#sk-container-id-3 input.sk-hidden--visually {border: 0;clip: rect(1px 1px 1px 1px);clip: rect(1px, 1px, 1px, 1px);height: 1px;margin: -1px;overflow: hidden;padding: 0;position: absolute;width: 1px;}#sk-container-id-3 div.sk-estimator {font-family: monospace;background-color: #f0f8ff;border: 1px dotted black;border-radius: 0.25em;box-sizing: border-box;margin-bottom: 0.5em;}#sk-container-id-3 div.sk-estimator:hover {background-color: #d4ebff;}#sk-container-id-3 div.sk-parallel-item::after {content: \"\";width: 100%;border-bottom: 1px solid gray;flex-grow: 1;}#sk-container-id-3 div.sk-label:hover label.sk-toggleable__label {background-color: #d4ebff;}#sk-container-id-3 div.sk-serial::before {content: \"\";position: absolute;border-left: 1px solid gray;box-sizing: border-box;top: 0;bottom: 0;left: 50%;z-index: 0;}#sk-container-id-3 div.sk-serial {display: flex;flex-direction: column;align-items: center;background-color: white;padding-right: 0.2em;padding-left: 0.2em;position: relative;}#sk-container-id-3 div.sk-item {position: relative;z-index: 1;}#sk-container-id-3 div.sk-parallel {display: flex;align-items: stretch;justify-content: center;background-color: white;position: relative;}#sk-container-id-3 div.sk-item::before, #sk-container-id-3 div.sk-parallel-item::before {content: \"\";position: absolute;border-left: 1px solid gray;box-sizing: border-box;top: 0;bottom: 0;left: 50%;z-index: -1;}#sk-container-id-3 div.sk-parallel-item {display: flex;flex-direction: column;z-index: 1;position: relative;background-color: white;}#sk-container-id-3 div.sk-parallel-item:first-child::after {align-self: flex-end;width: 50%;}#sk-container-id-3 div.sk-parallel-item:last-child::after {align-self: flex-start;width: 50%;}#sk-container-id-3 div.sk-parallel-item:only-child::after {width: 0;}#sk-container-id-3 div.sk-dashed-wrapped {border: 1px dashed gray;margin: 0 0.4em 0.5em 0.4em;box-sizing: border-box;padding-bottom: 0.4em;background-color: white;}#sk-container-id-3 div.sk-label label {font-family: monospace;font-weight: bold;display: inline-block;line-height: 1.2em;}#sk-container-id-3 div.sk-label-container {text-align: center;}#sk-container-id-3 div.sk-container {/* jupyter's `normalize.less` sets `[hidden] { display: none; }` but bootstrap.min.css set `[hidden] { display: none !important; }` so we also need the `!important` here to be able to override the default hidden behavior on the sphinx rendered scikit-learn.org. See: https://github.com/scikit-learn/scikit-learn/issues/21755 */display: inline-block !important;position: relative;}#sk-container-id-3 div.sk-text-repr-fallback {display: none;}</style><div id=\"sk-container-id-3\" class=\"sk-top-container\"><div class=\"sk-text-repr-fallback\"><pre>GridSearchCV(cv=5,\n",
       "             estimator=Pipeline(steps=[(&#x27;ordinalencoder&#x27;,\n",
       "                                        OrdinalEncoder(cols=[&#x27;top_blue_team&#x27;,\n",
       "                                                             &#x27;jungler_blue_team&#x27;,\n",
       "                                                             &#x27;mid_blue_team&#x27;,\n",
       "                                                             &#x27;adc_blue_team&#x27;,\n",
       "                                                             &#x27;support_blue_team&#x27;,\n",
       "                                                             &#x27;top_red_team&#x27;,\n",
       "                                                             &#x27;jungler_red_team&#x27;,\n",
       "                                                             &#x27;mid_red_team&#x27;,\n",
       "                                                             &#x27;adc_red_team&#x27;,\n",
       "                                                             &#x27;support_red_team&#x27;],\n",
       "                                                       mapping=[{&#x27;col&#x27;: &#x27;top_blue_team&#x27;,\n",
       "                                                                 &#x27;data_type&#x27;: dtype(&#x27;O&#x27;),\n",
       "                                                                 &#x27;mapping&#x27;: 366.0     1\n",
       "394.0     2\n",
       "368.0     3\n",
       "410.0     4\n",
       "342.0     5...\n",
       "                                                                 &#x27;data_type&#x27;: dtype(&#x27;O&#x27;),\n",
       "                                                                 &#x27;mapping&#x27;: 254.0     1\n",
       "248.0     2\n",
       "246.0     3\n",
       "258.0     4\n",
       "204.0     5\n",
       "226.0     6\n",
       "232.0     7\n",
       "231.0     8\n",
       "198.0     9\n",
       "237.0    10\n",
       "241.0    11\n",
       "236.0    12\n",
       "227.0    13\n",
       "233.0    14\n",
       "244.0    15\n",
       "228.0    16\n",
       "NaN      -2\n",
       "dtype: int64}])),\n",
       "                                       (&#x27;randomforestclassifier&#x27;,\n",
       "                                        RandomForestClassifier(random_state=42))]),\n",
       "             param_grid={&#x27;randomforestclassifier__max_depth&#x27;: range(5, 40, 5),\n",
       "                         &#x27;randomforestclassifier__n_estimators&#x27;: range(25, 125, 25)},\n",
       "             verbose=1)</pre><b>In a Jupyter environment, please rerun this cell to show the HTML representation or trust the notebook. <br />On GitHub, the HTML representation is unable to render, please try loading this page with nbviewer.org.</b></div><div class=\"sk-container\" hidden><div class=\"sk-item sk-dashed-wrapped\"><div class=\"sk-label-container\"><div class=\"sk-label sk-toggleable\"><input class=\"sk-toggleable__control sk-hidden--visually\" id=\"sk-estimator-id-8\" type=\"checkbox\" ><label for=\"sk-estimator-id-8\" class=\"sk-toggleable__label sk-toggleable__label-arrow\">GridSearchCV</label><div class=\"sk-toggleable__content\"><pre>GridSearchCV(cv=5,\n",
       "             estimator=Pipeline(steps=[(&#x27;ordinalencoder&#x27;,\n",
       "                                        OrdinalEncoder(cols=[&#x27;top_blue_team&#x27;,\n",
       "                                                             &#x27;jungler_blue_team&#x27;,\n",
       "                                                             &#x27;mid_blue_team&#x27;,\n",
       "                                                             &#x27;adc_blue_team&#x27;,\n",
       "                                                             &#x27;support_blue_team&#x27;,\n",
       "                                                             &#x27;top_red_team&#x27;,\n",
       "                                                             &#x27;jungler_red_team&#x27;,\n",
       "                                                             &#x27;mid_red_team&#x27;,\n",
       "                                                             &#x27;adc_red_team&#x27;,\n",
       "                                                             &#x27;support_red_team&#x27;],\n",
       "                                                       mapping=[{&#x27;col&#x27;: &#x27;top_blue_team&#x27;,\n",
       "                                                                 &#x27;data_type&#x27;: dtype(&#x27;O&#x27;),\n",
       "                                                                 &#x27;mapping&#x27;: 366.0     1\n",
       "394.0     2\n",
       "368.0     3\n",
       "410.0     4\n",
       "342.0     5...\n",
       "                                                                 &#x27;data_type&#x27;: dtype(&#x27;O&#x27;),\n",
       "                                                                 &#x27;mapping&#x27;: 254.0     1\n",
       "248.0     2\n",
       "246.0     3\n",
       "258.0     4\n",
       "204.0     5\n",
       "226.0     6\n",
       "232.0     7\n",
       "231.0     8\n",
       "198.0     9\n",
       "237.0    10\n",
       "241.0    11\n",
       "236.0    12\n",
       "227.0    13\n",
       "233.0    14\n",
       "244.0    15\n",
       "228.0    16\n",
       "NaN      -2\n",
       "dtype: int64}])),\n",
       "                                       (&#x27;randomforestclassifier&#x27;,\n",
       "                                        RandomForestClassifier(random_state=42))]),\n",
       "             param_grid={&#x27;randomforestclassifier__max_depth&#x27;: range(5, 40, 5),\n",
       "                         &#x27;randomforestclassifier__n_estimators&#x27;: range(25, 125, 25)},\n",
       "             verbose=1)</pre></div></div></div><div class=\"sk-parallel\"><div class=\"sk-parallel-item\"><div class=\"sk-item\"><div class=\"sk-label-container\"><div class=\"sk-label sk-toggleable\"><input class=\"sk-toggleable__control sk-hidden--visually\" id=\"sk-estimator-id-9\" type=\"checkbox\" ><label for=\"sk-estimator-id-9\" class=\"sk-toggleable__label sk-toggleable__label-arrow\">estimator: Pipeline</label><div class=\"sk-toggleable__content\"><pre>Pipeline(steps=[(&#x27;ordinalencoder&#x27;,\n",
       "                 OrdinalEncoder(cols=[&#x27;top_blue_team&#x27;, &#x27;jungler_blue_team&#x27;,\n",
       "                                      &#x27;mid_blue_team&#x27;, &#x27;adc_blue_team&#x27;,\n",
       "                                      &#x27;support_blue_team&#x27;, &#x27;top_red_team&#x27;,\n",
       "                                      &#x27;jungler_red_team&#x27;, &#x27;mid_red_team&#x27;,\n",
       "                                      &#x27;adc_red_team&#x27;, &#x27;support_red_team&#x27;],\n",
       "                                mapping=[{&#x27;col&#x27;: &#x27;top_blue_team&#x27;,\n",
       "                                          &#x27;data_type&#x27;: dtype(&#x27;O&#x27;),\n",
       "                                          &#x27;mapping&#x27;: 366.0     1\n",
       "394.0     2\n",
       "368.0     3\n",
       "410.0     4\n",
       "342.0     5\n",
       "346.0     6\n",
       "356.0     7\n",
       "326.0     8\n",
       "443.0     9\n",
       "359....\n",
       "466.0     4\n",
       "367.0     5\n",
       "435.0     6\n",
       "427.0     7\n",
       "464.0     8\n",
       "385.0     9\n",
       "430.0    10\n",
       "450.0    11\n",
       "398.0    12\n",
       "459.0    13\n",
       "429.0    14\n",
       "441.0    15\n",
       "397.0    16\n",
       "NaN      -2\n",
       "dtype: int64},\n",
       "                                         {&#x27;col&#x27;: &#x27;support_red_team&#x27;,\n",
       "                                          &#x27;data_type&#x27;: dtype(&#x27;O&#x27;),\n",
       "                                          &#x27;mapping&#x27;: 254.0     1\n",
       "248.0     2\n",
       "246.0     3\n",
       "258.0     4\n",
       "204.0     5\n",
       "226.0     6\n",
       "232.0     7\n",
       "231.0     8\n",
       "198.0     9\n",
       "237.0    10\n",
       "241.0    11\n",
       "236.0    12\n",
       "227.0    13\n",
       "233.0    14\n",
       "244.0    15\n",
       "228.0    16\n",
       "NaN      -2\n",
       "dtype: int64}])),\n",
       "                (&#x27;randomforestclassifier&#x27;,\n",
       "                 RandomForestClassifier(random_state=42))])</pre></div></div></div><div class=\"sk-serial\"><div class=\"sk-item\"><div class=\"sk-serial\"><div class=\"sk-item\"><div class=\"sk-estimator sk-toggleable\"><input class=\"sk-toggleable__control sk-hidden--visually\" id=\"sk-estimator-id-10\" type=\"checkbox\" ><label for=\"sk-estimator-id-10\" class=\"sk-toggleable__label sk-toggleable__label-arrow\">OrdinalEncoder</label><div class=\"sk-toggleable__content\"><pre>OrdinalEncoder(cols=[&#x27;top_blue_team&#x27;, &#x27;jungler_blue_team&#x27;, &#x27;mid_blue_team&#x27;,\n",
       "                     &#x27;adc_blue_team&#x27;, &#x27;support_blue_team&#x27;, &#x27;top_red_team&#x27;,\n",
       "                     &#x27;jungler_red_team&#x27;, &#x27;mid_red_team&#x27;, &#x27;adc_red_team&#x27;,\n",
       "                     &#x27;support_red_team&#x27;],\n",
       "               mapping=[{&#x27;col&#x27;: &#x27;top_blue_team&#x27;, &#x27;data_type&#x27;: dtype(&#x27;O&#x27;),\n",
       "                         &#x27;mapping&#x27;: 366.0     1\n",
       "394.0     2\n",
       "368.0     3\n",
       "410.0     4\n",
       "342.0     5\n",
       "346.0     6\n",
       "356.0     7\n",
       "326.0     8\n",
       "443.0     9\n",
       "359.0    10\n",
       "399.0    11\n",
       "364.0    12\n",
       "330.0    13\n",
       "400.0    14\n",
       "374...\n",
       "                        {&#x27;col&#x27;: &#x27;adc_red_team&#x27;, &#x27;data_type&#x27;: dtype(&#x27;O&#x27;),\n",
       "                         &#x27;mapping&#x27;: 460.0     1\n",
       "415.0     2\n",
       "448.0     3\n",
       "466.0     4\n",
       "367.0     5\n",
       "435.0     6\n",
       "427.0     7\n",
       "464.0     8\n",
       "385.0     9\n",
       "430.0    10\n",
       "450.0    11\n",
       "398.0    12\n",
       "459.0    13\n",
       "429.0    14\n",
       "441.0    15\n",
       "397.0    16\n",
       "NaN      -2\n",
       "dtype: int64},\n",
       "                        {&#x27;col&#x27;: &#x27;support_red_team&#x27;, &#x27;data_type&#x27;: dtype(&#x27;O&#x27;),\n",
       "                         &#x27;mapping&#x27;: 254.0     1\n",
       "248.0     2\n",
       "246.0     3\n",
       "258.0     4\n",
       "204.0     5\n",
       "226.0     6\n",
       "232.0     7\n",
       "231.0     8\n",
       "198.0     9\n",
       "237.0    10\n",
       "241.0    11\n",
       "236.0    12\n",
       "227.0    13\n",
       "233.0    14\n",
       "244.0    15\n",
       "228.0    16\n",
       "NaN      -2\n",
       "dtype: int64}])</pre></div></div></div><div class=\"sk-item\"><div class=\"sk-estimator sk-toggleable\"><input class=\"sk-toggleable__control sk-hidden--visually\" id=\"sk-estimator-id-11\" type=\"checkbox\" ><label for=\"sk-estimator-id-11\" class=\"sk-toggleable__label sk-toggleable__label-arrow\">RandomForestClassifier</label><div class=\"sk-toggleable__content\"><pre>RandomForestClassifier(random_state=42)</pre></div></div></div></div></div></div></div></div></div></div></div></div>"
      ],
      "text/plain": [
       "GridSearchCV(cv=5,\n",
       "             estimator=Pipeline(steps=[('ordinalencoder',\n",
       "                                        OrdinalEncoder(cols=['top_blue_team',\n",
       "                                                             'jungler_blue_team',\n",
       "                                                             'mid_blue_team',\n",
       "                                                             'adc_blue_team',\n",
       "                                                             'support_blue_team',\n",
       "                                                             'top_red_team',\n",
       "                                                             'jungler_red_team',\n",
       "                                                             'mid_red_team',\n",
       "                                                             'adc_red_team',\n",
       "                                                             'support_red_team'],\n",
       "                                                       mapping=[{'col': 'top_blue_team',\n",
       "                                                                 'data_type': dtype('O'),\n",
       "                                                                 'mapping': 366.0     1\n",
       "394.0     2\n",
       "368.0     3\n",
       "410.0     4\n",
       "342.0     5...\n",
       "                                                                 'data_type': dtype('O'),\n",
       "                                                                 'mapping': 254.0     1\n",
       "248.0     2\n",
       "246.0     3\n",
       "258.0     4\n",
       "204.0     5\n",
       "226.0     6\n",
       "232.0     7\n",
       "231.0     8\n",
       "198.0     9\n",
       "237.0    10\n",
       "241.0    11\n",
       "236.0    12\n",
       "227.0    13\n",
       "233.0    14\n",
       "244.0    15\n",
       "228.0    16\n",
       "NaN      -2\n",
       "dtype: int64}])),\n",
       "                                       ('randomforestclassifier',\n",
       "                                        RandomForestClassifier(random_state=42))]),\n",
       "             param_grid={'randomforestclassifier__max_depth': range(5, 40, 5),\n",
       "                         'randomforestclassifier__n_estimators': range(25, 125, 25)},\n",
       "             verbose=1)"
      ]
     },
     "execution_count": 65,
     "metadata": {},
     "output_type": "execute_result"
    }
   ],
   "source": [
    "model_rf_gs = GridSearchCV(model_rf,\n",
    "             param_grid=param_grid,\n",
    "             cv=5,\n",
    "             verbose=1)\n",
    "\n",
    "model_rf_gs.fit(X,y)"
   ]
  },
  {
   "cell_type": "code",
   "execution_count": 66,
   "metadata": {},
   "outputs": [
    {
     "data": {
      "text/plain": [
       "{'randomforestclassifier__max_depth': 5,\n",
       " 'randomforestclassifier__n_estimators': 100}"
      ]
     },
     "execution_count": 66,
     "metadata": {},
     "output_type": "execute_result"
    }
   ],
   "source": [
    "model_rf_gs.best_params_"
   ]
  },
  {
   "cell_type": "code",
   "execution_count": 67,
   "metadata": {},
   "outputs": [
    {
     "data": {
      "text/plain": [
       "0.6366666666666666"
      ]
     },
     "execution_count": 67,
     "metadata": {},
     "output_type": "execute_result"
    }
   ],
   "source": [
    "model_rf_gs.best_score_"
   ]
  },
  {
   "cell_type": "code",
   "execution_count": 68,
   "metadata": {},
   "outputs": [
    {
     "data": {
      "text/html": [
       "<style>#sk-container-id-4 {color: black;background-color: white;}#sk-container-id-4 pre{padding: 0;}#sk-container-id-4 div.sk-toggleable {background-color: white;}#sk-container-id-4 label.sk-toggleable__label {cursor: pointer;display: block;width: 100%;margin-bottom: 0;padding: 0.3em;box-sizing: border-box;text-align: center;}#sk-container-id-4 label.sk-toggleable__label-arrow:before {content: \"▸\";float: left;margin-right: 0.25em;color: #696969;}#sk-container-id-4 label.sk-toggleable__label-arrow:hover:before {color: black;}#sk-container-id-4 div.sk-estimator:hover label.sk-toggleable__label-arrow:before {color: black;}#sk-container-id-4 div.sk-toggleable__content {max-height: 0;max-width: 0;overflow: hidden;text-align: left;background-color: #f0f8ff;}#sk-container-id-4 div.sk-toggleable__content pre {margin: 0.2em;color: black;border-radius: 0.25em;background-color: #f0f8ff;}#sk-container-id-4 input.sk-toggleable__control:checked~div.sk-toggleable__content {max-height: 200px;max-width: 100%;overflow: auto;}#sk-container-id-4 input.sk-toggleable__control:checked~label.sk-toggleable__label-arrow:before {content: \"▾\";}#sk-container-id-4 div.sk-estimator input.sk-toggleable__control:checked~label.sk-toggleable__label {background-color: #d4ebff;}#sk-container-id-4 div.sk-label input.sk-toggleable__control:checked~label.sk-toggleable__label {background-color: #d4ebff;}#sk-container-id-4 input.sk-hidden--visually {border: 0;clip: rect(1px 1px 1px 1px);clip: rect(1px, 1px, 1px, 1px);height: 1px;margin: -1px;overflow: hidden;padding: 0;position: absolute;width: 1px;}#sk-container-id-4 div.sk-estimator {font-family: monospace;background-color: #f0f8ff;border: 1px dotted black;border-radius: 0.25em;box-sizing: border-box;margin-bottom: 0.5em;}#sk-container-id-4 div.sk-estimator:hover {background-color: #d4ebff;}#sk-container-id-4 div.sk-parallel-item::after {content: \"\";width: 100%;border-bottom: 1px solid gray;flex-grow: 1;}#sk-container-id-4 div.sk-label:hover label.sk-toggleable__label {background-color: #d4ebff;}#sk-container-id-4 div.sk-serial::before {content: \"\";position: absolute;border-left: 1px solid gray;box-sizing: border-box;top: 0;bottom: 0;left: 50%;z-index: 0;}#sk-container-id-4 div.sk-serial {display: flex;flex-direction: column;align-items: center;background-color: white;padding-right: 0.2em;padding-left: 0.2em;position: relative;}#sk-container-id-4 div.sk-item {position: relative;z-index: 1;}#sk-container-id-4 div.sk-parallel {display: flex;align-items: stretch;justify-content: center;background-color: white;position: relative;}#sk-container-id-4 div.sk-item::before, #sk-container-id-4 div.sk-parallel-item::before {content: \"\";position: absolute;border-left: 1px solid gray;box-sizing: border-box;top: 0;bottom: 0;left: 50%;z-index: -1;}#sk-container-id-4 div.sk-parallel-item {display: flex;flex-direction: column;z-index: 1;position: relative;background-color: white;}#sk-container-id-4 div.sk-parallel-item:first-child::after {align-self: flex-end;width: 50%;}#sk-container-id-4 div.sk-parallel-item:last-child::after {align-self: flex-start;width: 50%;}#sk-container-id-4 div.sk-parallel-item:only-child::after {width: 0;}#sk-container-id-4 div.sk-dashed-wrapped {border: 1px dashed gray;margin: 0 0.4em 0.5em 0.4em;box-sizing: border-box;padding-bottom: 0.4em;background-color: white;}#sk-container-id-4 div.sk-label label {font-family: monospace;font-weight: bold;display: inline-block;line-height: 1.2em;}#sk-container-id-4 div.sk-label-container {text-align: center;}#sk-container-id-4 div.sk-container {/* jupyter's `normalize.less` sets `[hidden] { display: none; }` but bootstrap.min.css set `[hidden] { display: none !important; }` so we also need the `!important` here to be able to override the default hidden behavior on the sphinx rendered scikit-learn.org. See: https://github.com/scikit-learn/scikit-learn/issues/21755 */display: inline-block !important;position: relative;}#sk-container-id-4 div.sk-text-repr-fallback {display: none;}</style><div id=\"sk-container-id-4\" class=\"sk-top-container\"><div class=\"sk-text-repr-fallback\"><pre>Pipeline(steps=[(&#x27;ordinalencoder&#x27;,\n",
       "                 OrdinalEncoder(cols=[&#x27;top_blue_team&#x27;, &#x27;jungler_blue_team&#x27;,\n",
       "                                      &#x27;mid_blue_team&#x27;, &#x27;adc_blue_team&#x27;,\n",
       "                                      &#x27;support_blue_team&#x27;, &#x27;top_red_team&#x27;,\n",
       "                                      &#x27;jungler_red_team&#x27;, &#x27;mid_red_team&#x27;,\n",
       "                                      &#x27;adc_red_team&#x27;, &#x27;support_red_team&#x27;],\n",
       "                                mapping=[{&#x27;col&#x27;: &#x27;top_blue_team&#x27;,\n",
       "                                          &#x27;data_type&#x27;: dtype(&#x27;O&#x27;),\n",
       "                                          &#x27;mapping&#x27;: 366.0     1\n",
       "394.0     2\n",
       "368.0     3\n",
       "410.0     4\n",
       "342.0     5\n",
       "346.0     6\n",
       "356.0     7\n",
       "326.0     8\n",
       "443.0     9\n",
       "359....\n",
       "435.0     6\n",
       "427.0     7\n",
       "464.0     8\n",
       "385.0     9\n",
       "430.0    10\n",
       "450.0    11\n",
       "398.0    12\n",
       "459.0    13\n",
       "429.0    14\n",
       "441.0    15\n",
       "397.0    16\n",
       "NaN      -2\n",
       "dtype: int64},\n",
       "                                         {&#x27;col&#x27;: &#x27;support_red_team&#x27;,\n",
       "                                          &#x27;data_type&#x27;: dtype(&#x27;O&#x27;),\n",
       "                                          &#x27;mapping&#x27;: 254.0     1\n",
       "248.0     2\n",
       "246.0     3\n",
       "258.0     4\n",
       "204.0     5\n",
       "226.0     6\n",
       "232.0     7\n",
       "231.0     8\n",
       "198.0     9\n",
       "237.0    10\n",
       "241.0    11\n",
       "236.0    12\n",
       "227.0    13\n",
       "233.0    14\n",
       "244.0    15\n",
       "228.0    16\n",
       "NaN      -2\n",
       "dtype: int64}])),\n",
       "                (&#x27;randomforestclassifier&#x27;,\n",
       "                 RandomForestClassifier(max_depth=5, random_state=42))])</pre><b>In a Jupyter environment, please rerun this cell to show the HTML representation or trust the notebook. <br />On GitHub, the HTML representation is unable to render, please try loading this page with nbviewer.org.</b></div><div class=\"sk-container\" hidden><div class=\"sk-item sk-dashed-wrapped\"><div class=\"sk-label-container\"><div class=\"sk-label sk-toggleable\"><input class=\"sk-toggleable__control sk-hidden--visually\" id=\"sk-estimator-id-12\" type=\"checkbox\" ><label for=\"sk-estimator-id-12\" class=\"sk-toggleable__label sk-toggleable__label-arrow\">Pipeline</label><div class=\"sk-toggleable__content\"><pre>Pipeline(steps=[(&#x27;ordinalencoder&#x27;,\n",
       "                 OrdinalEncoder(cols=[&#x27;top_blue_team&#x27;, &#x27;jungler_blue_team&#x27;,\n",
       "                                      &#x27;mid_blue_team&#x27;, &#x27;adc_blue_team&#x27;,\n",
       "                                      &#x27;support_blue_team&#x27;, &#x27;top_red_team&#x27;,\n",
       "                                      &#x27;jungler_red_team&#x27;, &#x27;mid_red_team&#x27;,\n",
       "                                      &#x27;adc_red_team&#x27;, &#x27;support_red_team&#x27;],\n",
       "                                mapping=[{&#x27;col&#x27;: &#x27;top_blue_team&#x27;,\n",
       "                                          &#x27;data_type&#x27;: dtype(&#x27;O&#x27;),\n",
       "                                          &#x27;mapping&#x27;: 366.0     1\n",
       "394.0     2\n",
       "368.0     3\n",
       "410.0     4\n",
       "342.0     5\n",
       "346.0     6\n",
       "356.0     7\n",
       "326.0     8\n",
       "443.0     9\n",
       "359....\n",
       "435.0     6\n",
       "427.0     7\n",
       "464.0     8\n",
       "385.0     9\n",
       "430.0    10\n",
       "450.0    11\n",
       "398.0    12\n",
       "459.0    13\n",
       "429.0    14\n",
       "441.0    15\n",
       "397.0    16\n",
       "NaN      -2\n",
       "dtype: int64},\n",
       "                                         {&#x27;col&#x27;: &#x27;support_red_team&#x27;,\n",
       "                                          &#x27;data_type&#x27;: dtype(&#x27;O&#x27;),\n",
       "                                          &#x27;mapping&#x27;: 254.0     1\n",
       "248.0     2\n",
       "246.0     3\n",
       "258.0     4\n",
       "204.0     5\n",
       "226.0     6\n",
       "232.0     7\n",
       "231.0     8\n",
       "198.0     9\n",
       "237.0    10\n",
       "241.0    11\n",
       "236.0    12\n",
       "227.0    13\n",
       "233.0    14\n",
       "244.0    15\n",
       "228.0    16\n",
       "NaN      -2\n",
       "dtype: int64}])),\n",
       "                (&#x27;randomforestclassifier&#x27;,\n",
       "                 RandomForestClassifier(max_depth=5, random_state=42))])</pre></div></div></div><div class=\"sk-serial\"><div class=\"sk-item\"><div class=\"sk-estimator sk-toggleable\"><input class=\"sk-toggleable__control sk-hidden--visually\" id=\"sk-estimator-id-13\" type=\"checkbox\" ><label for=\"sk-estimator-id-13\" class=\"sk-toggleable__label sk-toggleable__label-arrow\">OrdinalEncoder</label><div class=\"sk-toggleable__content\"><pre>OrdinalEncoder(cols=[&#x27;top_blue_team&#x27;, &#x27;jungler_blue_team&#x27;, &#x27;mid_blue_team&#x27;,\n",
       "                     &#x27;adc_blue_team&#x27;, &#x27;support_blue_team&#x27;, &#x27;top_red_team&#x27;,\n",
       "                     &#x27;jungler_red_team&#x27;, &#x27;mid_red_team&#x27;, &#x27;adc_red_team&#x27;,\n",
       "                     &#x27;support_red_team&#x27;],\n",
       "               mapping=[{&#x27;col&#x27;: &#x27;top_blue_team&#x27;, &#x27;data_type&#x27;: dtype(&#x27;O&#x27;),\n",
       "                         &#x27;mapping&#x27;: 366.0     1\n",
       "394.0     2\n",
       "368.0     3\n",
       "410.0     4\n",
       "342.0     5\n",
       "346.0     6\n",
       "356.0     7\n",
       "326.0     8\n",
       "443.0     9\n",
       "359.0    10\n",
       "399.0    11\n",
       "364.0    12\n",
       "330.0    13\n",
       "400.0    14\n",
       "374...\n",
       "                        {&#x27;col&#x27;: &#x27;adc_red_team&#x27;, &#x27;data_type&#x27;: dtype(&#x27;O&#x27;),\n",
       "                         &#x27;mapping&#x27;: 460.0     1\n",
       "415.0     2\n",
       "448.0     3\n",
       "466.0     4\n",
       "367.0     5\n",
       "435.0     6\n",
       "427.0     7\n",
       "464.0     8\n",
       "385.0     9\n",
       "430.0    10\n",
       "450.0    11\n",
       "398.0    12\n",
       "459.0    13\n",
       "429.0    14\n",
       "441.0    15\n",
       "397.0    16\n",
       "NaN      -2\n",
       "dtype: int64},\n",
       "                        {&#x27;col&#x27;: &#x27;support_red_team&#x27;, &#x27;data_type&#x27;: dtype(&#x27;O&#x27;),\n",
       "                         &#x27;mapping&#x27;: 254.0     1\n",
       "248.0     2\n",
       "246.0     3\n",
       "258.0     4\n",
       "204.0     5\n",
       "226.0     6\n",
       "232.0     7\n",
       "231.0     8\n",
       "198.0     9\n",
       "237.0    10\n",
       "241.0    11\n",
       "236.0    12\n",
       "227.0    13\n",
       "233.0    14\n",
       "244.0    15\n",
       "228.0    16\n",
       "NaN      -2\n",
       "dtype: int64}])</pre></div></div></div><div class=\"sk-item\"><div class=\"sk-estimator sk-toggleable\"><input class=\"sk-toggleable__control sk-hidden--visually\" id=\"sk-estimator-id-14\" type=\"checkbox\" ><label for=\"sk-estimator-id-14\" class=\"sk-toggleable__label sk-toggleable__label-arrow\">RandomForestClassifier</label><div class=\"sk-toggleable__content\"><pre>RandomForestClassifier(max_depth=5, random_state=42)</pre></div></div></div></div></div></div></div>"
      ],
      "text/plain": [
       "Pipeline(steps=[('ordinalencoder',\n",
       "                 OrdinalEncoder(cols=['top_blue_team', 'jungler_blue_team',\n",
       "                                      'mid_blue_team', 'adc_blue_team',\n",
       "                                      'support_blue_team', 'top_red_team',\n",
       "                                      'jungler_red_team', 'mid_red_team',\n",
       "                                      'adc_red_team', 'support_red_team'],\n",
       "                                mapping=[{'col': 'top_blue_team',\n",
       "                                          'data_type': dtype('O'),\n",
       "                                          'mapping': 366.0     1\n",
       "394.0     2\n",
       "368.0     3\n",
       "410.0     4\n",
       "342.0     5\n",
       "346.0     6\n",
       "356.0     7\n",
       "326.0     8\n",
       "443.0     9\n",
       "359....\n",
       "435.0     6\n",
       "427.0     7\n",
       "464.0     8\n",
       "385.0     9\n",
       "430.0    10\n",
       "450.0    11\n",
       "398.0    12\n",
       "459.0    13\n",
       "429.0    14\n",
       "441.0    15\n",
       "397.0    16\n",
       "NaN      -2\n",
       "dtype: int64},\n",
       "                                         {'col': 'support_red_team',\n",
       "                                          'data_type': dtype('O'),\n",
       "                                          'mapping': 254.0     1\n",
       "248.0     2\n",
       "246.0     3\n",
       "258.0     4\n",
       "204.0     5\n",
       "226.0     6\n",
       "232.0     7\n",
       "231.0     8\n",
       "198.0     9\n",
       "237.0    10\n",
       "241.0    11\n",
       "236.0    12\n",
       "227.0    13\n",
       "233.0    14\n",
       "244.0    15\n",
       "228.0    16\n",
       "NaN      -2\n",
       "dtype: int64}])),\n",
       "                ('randomforestclassifier',\n",
       "                 RandomForestClassifier(max_depth=5, random_state=42))])"
      ]
     },
     "execution_count": 68,
     "metadata": {},
     "output_type": "execute_result"
    }
   ],
   "source": [
    "model_rf_gs.best_estimator_"
   ]
  },
  {
   "cell_type": "code",
   "execution_count": 69,
   "metadata": {},
   "outputs": [
    {
     "data": {
      "image/png": "[encoded data removed]",
      "text/plain": [
       "<Figure size 640x480 with 1 Axes>"
      ]
     },
     "metadata": {},
     "output_type": "display_data"
    }
   ],
   "source": [
    "bestestimator = model_rf_gs.best_estimator_\n",
    "importances = bestestimator.named_steps['randomforestclassifier'].feature_importances_\n",
    "features = X.columns\n",
    "feat_imp = pd.Series(importances, index=features).sort_values()\n",
    "feat_imp.tail(10).plot(kind='barh')\n",
    "plt.xlabel('Reduction in Gini Impurity');"
   ]
  },
  {
   "cell_type": "code",
   "execution_count": 70,
   "metadata": {},
   "outputs": [
    {
     "data": {
      "text/plain": [
       "array([0, 1, 1, 1, 1, 1, 0, 1, 1, 0, 0, 0, 1, 1, 1, 1], dtype=int64)"
      ]
     },
     "execution_count": 70,
     "metadata": {},
     "output_type": "execute_result"
    }
   ],
   "source": [
    "model_rf_gs.predict(X_val)"
   ]
  },
  {
   "cell_type": "code",
   "execution_count": 71,
   "metadata": {},
   "outputs": [
    {
     "data": {
      "text/plain": [
       "515    0\n",
       "546    1\n",
       "521    1\n",
       "511    1\n",
       "556    1\n",
       "558    1\n",
       "577    0\n",
       "564    1\n",
       "561    1\n",
       "539    0\n",
       "579    0\n",
       "585    0\n",
       "529    1\n",
       "523    0\n",
       "569    1\n",
       "544    1\n",
       "Name: blue_win, dtype: int64"
      ]
     },
     "execution_count": 71,
     "metadata": {},
     "output_type": "execute_result"
    }
   ],
   "source": [
    "y_val"
   ]
  },
  {
   "cell_type": "code",
   "execution_count": 72,
   "metadata": {},
   "outputs": [],
   "source": [
    "# remember to rename first!!\n",
    "# path = 'LoL_Models/initial_league_forest'\n",
    "\n",
    "\n",
    "# to save\n",
    "# with open(path,'wb') as f:\n",
    "    # pickle.dump(bestestimator, f)\n",
    "\n",
    "\n",
    "# to load\n",
    "# with open(path, 'rb') as f:\n",
    "    # model_rf_loaded = pickle.load(f)"
   ]
  }
 ],
 "metadata": {
  "kernelspec": {
   "display_name": "Python 3",
   "language": "python",
   "name": "python3"
  },
  "language_info": {
   "codemirror_mode": {
    "name": "ipython",
    "version": 3
   },
   "file_extension": ".py",
   "mimetype": "text/x-python",
   "name": "python",
   "nbconvert_exporter": "python",
   "pygments_lexer": "ipython3",
   "version": "3.9.8"
  },
  "orig_nbformat": 4,
  "vscode": {
   "interpreter": {
    "hash": "281f3b0f4dedc6a5c986312fdccae2bf230a38ca0b908facc5eb6dc34524b739"
   }
  }
 },
 "nbformat": 4,
 "nbformat_minor": 2
}
