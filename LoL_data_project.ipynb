{
  "cells": [
    {
      "cell_type": "markdown",
      "metadata": {
        "id": "jl3IsvLmFmLw"
      },
      "source": [
        "Here are my basic goals and ideas for this project. I want to analyze LoL data from the last 11 years to attempt to find which conditions are most important for a team's victory in the main tournament. \n",
        "\n",
        "Potential Factors to explore in no particular order:\n",
        "  1) Strongest champs per position\n",
        "  2) Biggest position Contribution per game\n",
        "    (ratio between 1 and 2 might be something?) \n",
        "  3) Strongest Player per team\n",
        "  4) Tournament Winning teams\n",
        "\n",
        "data culling:\n",
        "  only look at main event games\n",
        "  make a df['game_id'] column\n",
        "\n",
        "\n",
        "ML model:\n",
        "  use model to run numbers and assign weights to key features and predict wins \n",
        "  and losses\n",
        "    numbers = [TBD] list of what factors seem important.\n",
        "\n"
      ]
    },
    {
      "cell_type": "code",
      "execution_count": 1,
      "metadata": {},
      "outputs": [],
      "source": [
        "# Fabiola Notes\n",
        "# irregular non-normalized data (t-test? to help sample data)\n",
        "# \n",
        "# inner join on season, \n",
        "# \n",
        "# one hot encoding for categorical win or lose\n",
        "# feature importances\n",
        "# \n",
        "# new df, winner 0|1\n",
        "# use random forest (can measure importances)\n",
        "\t# mostly unit 2 stuff\n",
        "\t# so sprints 5 or 6"
      ]
    },
    {
      "cell_type": "code",
      "execution_count": 2,
      "metadata": {
        "id": "s_JUeFt2mrNr"
      },
      "outputs": [],
      "source": [
        "import pandas as pd\n",
        "import numpy as np\n",
        "import re\n",
        "from sklearn.pipeline import make_pipeline\n",
        "from sklearn.impute import SimpleImputer\n",
        "from sklearn.ensemble import RandomForestClassifier\n",
        "from sklearn.linear_model import LogisticRegression\n",
        "from sklearn.preprocessing import StandardScaler, LabelEncoder\n",
        "from sklearn.model_selection import train_test_split"
      ]
    },
    {
      "cell_type": "code",
      "execution_count": 3,
      "metadata": {
        "id": "XZwy9xPunWjd"
      },
      "outputs": [],
      "source": [
        "champ_df = pd.read_csv('LoL_Data/champion_stats.csv')\n",
        "player_df = pd.read_csv('LoL_Data/player_stats.csv')\n",
        "match_df = pd.read_csv('LoL_Data/match_stats.csv')"
      ]
    },
    {
      "cell_type": "code",
      "execution_count": 4,
      "metadata": {},
      "outputs": [
        {
          "data": {
            "text/html": [
              "<div>\n",
              "<style scoped>\n",
              "    .dataframe tbody tr th:only-of-type {\n",
              "        vertical-align: middle;\n",
              "    }\n",
              "\n",
              "    .dataframe tbody tr th {\n",
              "        vertical-align: top;\n",
              "    }\n",
              "\n",
              "    .dataframe thead th {\n",
              "        text-align: right;\n",
              "    }\n",
              "</style>\n",
              "<table border=\"1\" class=\"dataframe\">\n",
              "  <thead>\n",
              "    <tr style=\"text-align: right;\">\n",
              "      <th></th>\n",
              "      <th>season</th>\n",
              "      <th>date</th>\n",
              "      <th>event</th>\n",
              "      <th>patch</th>\n",
              "      <th>blue_team</th>\n",
              "      <th>red_team</th>\n",
              "      <th>winner</th>\n",
              "      <th>ban_1_blue_team</th>\n",
              "      <th>ban_2_blue_team</th>\n",
              "      <th>ban_3_blue_team</th>\n",
              "      <th>...</th>\n",
              "      <th>top_blue_team</th>\n",
              "      <th>jungler_blue_team</th>\n",
              "      <th>mid_blue_team</th>\n",
              "      <th>adc_blue_team</th>\n",
              "      <th>support_blue_team</th>\n",
              "      <th>top_red_team</th>\n",
              "      <th>jungler_red_team</th>\n",
              "      <th>mid_red_team</th>\n",
              "      <th>adc_red_team</th>\n",
              "      <th>support_red_team</th>\n",
              "    </tr>\n",
              "  </thead>\n",
              "  <tbody>\n",
              "    <tr>\n",
              "      <th>0</th>\n",
              "      <td>1</td>\n",
              "      <td>2011-06-20</td>\n",
              "      <td>Main</td>\n",
              "      <td>NaN</td>\n",
              "      <td>Against_All_authority</td>\n",
              "      <td>Fnatic</td>\n",
              "      <td>Fnatic</td>\n",
              "      <td>Alistar</td>\n",
              "      <td>Gragas</td>\n",
              "      <td>Anivia</td>\n",
              "      <td>...</td>\n",
              "      <td>MoMa</td>\n",
              "      <td>Linak</td>\n",
              "      <td>sOAZ</td>\n",
              "      <td>YellOwStaR</td>\n",
              "      <td>Kujaa</td>\n",
              "      <td>Shushei</td>\n",
              "      <td>Cyanide</td>\n",
              "      <td>xPeke</td>\n",
              "      <td>Lamia</td>\n",
              "      <td>Mellisan</td>\n",
              "    </tr>\n",
              "    <tr>\n",
              "      <th>1</th>\n",
              "      <td>1</td>\n",
              "      <td>2011-06-20</td>\n",
              "      <td>Main</td>\n",
              "      <td>NaN</td>\n",
              "      <td>Fnatic</td>\n",
              "      <td>Against_All_authority</td>\n",
              "      <td>Against_All_authority</td>\n",
              "      <td>Nunu</td>\n",
              "      <td>Warwick</td>\n",
              "      <td>Amumu</td>\n",
              "      <td>...</td>\n",
              "      <td>Shushei</td>\n",
              "      <td>Cyanide</td>\n",
              "      <td>xPeke</td>\n",
              "      <td>Lamia</td>\n",
              "      <td>Mellisan</td>\n",
              "      <td>sOAZ</td>\n",
              "      <td>Linak</td>\n",
              "      <td>MoMa</td>\n",
              "      <td>YellOwStaR</td>\n",
              "      <td>Kujaa</td>\n",
              "    </tr>\n",
              "    <tr>\n",
              "      <th>2</th>\n",
              "      <td>1</td>\n",
              "      <td>2011-06-20</td>\n",
              "      <td>Main</td>\n",
              "      <td>NaN</td>\n",
              "      <td>Against_All_authority</td>\n",
              "      <td>TSM</td>\n",
              "      <td>Against_All_authority</td>\n",
              "      <td>Jarvan IV</td>\n",
              "      <td>Annie</td>\n",
              "      <td>Singed</td>\n",
              "      <td>...</td>\n",
              "      <td>YellOwStaR</td>\n",
              "      <td>Linak</td>\n",
              "      <td>MoMa</td>\n",
              "      <td>sOAZ</td>\n",
              "      <td>Kujaa</td>\n",
              "      <td>Chaox</td>\n",
              "      <td>TheOddOne</td>\n",
              "      <td>Reginald</td>\n",
              "      <td>TheRainMan</td>\n",
              "      <td>Xpecial</td>\n",
              "    </tr>\n",
              "    <tr>\n",
              "      <th>3</th>\n",
              "      <td>1</td>\n",
              "      <td>2011-06-20</td>\n",
              "      <td>Main</td>\n",
              "      <td>NaN</td>\n",
              "      <td>Epik_Gamer</td>\n",
              "      <td>TSM</td>\n",
              "      <td>TSM</td>\n",
              "      <td>Zilean</td>\n",
              "      <td>Vayne</td>\n",
              "      <td>Alistar</td>\n",
              "      <td>...</td>\n",
              "      <td>Dyrus</td>\n",
              "      <td>Dan Dinh</td>\n",
              "      <td>Salce</td>\n",
              "      <td>Westrice</td>\n",
              "      <td>Doublelift</td>\n",
              "      <td>TheRainMan</td>\n",
              "      <td>TheOddOne</td>\n",
              "      <td>Reginald</td>\n",
              "      <td>Chaox</td>\n",
              "      <td>Xpecial</td>\n",
              "    </tr>\n",
              "    <tr>\n",
              "      <th>4</th>\n",
              "      <td>1</td>\n",
              "      <td>2011-06-20</td>\n",
              "      <td>Main</td>\n",
              "      <td>NaN</td>\n",
              "      <td>TSM</td>\n",
              "      <td>Epik_Gamer</td>\n",
              "      <td>TSM</td>\n",
              "      <td>Akali</td>\n",
              "      <td>Vladimir</td>\n",
              "      <td>Taric</td>\n",
              "      <td>...</td>\n",
              "      <td>TheRainMan</td>\n",
              "      <td>TheOddOne</td>\n",
              "      <td>Reginald</td>\n",
              "      <td>Chaox</td>\n",
              "      <td>Xpecial</td>\n",
              "      <td>Westrice</td>\n",
              "      <td>Dan Dinh</td>\n",
              "      <td>Salce</td>\n",
              "      <td>Dyrus</td>\n",
              "      <td>Doublelift</td>\n",
              "    </tr>\n",
              "  </tbody>\n",
              "</table>\n",
              "<p>5 rows × 37 columns</p>\n",
              "</div>"
            ],
            "text/plain": [
              "   season        date event  patch              blue_team  \\\n",
              "0       1  2011-06-20  Main    NaN  Against_All_authority   \n",
              "1       1  2011-06-20  Main    NaN                 Fnatic   \n",
              "2       1  2011-06-20  Main    NaN  Against_All_authority   \n",
              "3       1  2011-06-20  Main    NaN             Epik_Gamer   \n",
              "4       1  2011-06-20  Main    NaN                    TSM   \n",
              "\n",
              "                red_team                 winner ban_1_blue_team  \\\n",
              "0                 Fnatic                 Fnatic         Alistar   \n",
              "1  Against_All_authority  Against_All_authority            Nunu   \n",
              "2                    TSM  Against_All_authority       Jarvan IV   \n",
              "3                    TSM                    TSM          Zilean   \n",
              "4             Epik_Gamer                    TSM           Akali   \n",
              "\n",
              "  ban_2_blue_team ban_3_blue_team  ... top_blue_team jungler_blue_team  \\\n",
              "0          Gragas          Anivia  ...          MoMa             Linak   \n",
              "1         Warwick           Amumu  ...       Shushei           Cyanide   \n",
              "2           Annie          Singed  ...    YellOwStaR             Linak   \n",
              "3           Vayne         Alistar  ...         Dyrus          Dan Dinh   \n",
              "4        Vladimir           Taric  ...    TheRainMan         TheOddOne   \n",
              "\n",
              "  mid_blue_team adc_blue_team support_blue_team top_red_team jungler_red_team  \\\n",
              "0          sOAZ    YellOwStaR             Kujaa      Shushei          Cyanide   \n",
              "1         xPeke         Lamia          Mellisan         sOAZ            Linak   \n",
              "2          MoMa          sOAZ             Kujaa        Chaox        TheOddOne   \n",
              "3         Salce      Westrice        Doublelift   TheRainMan        TheOddOne   \n",
              "4      Reginald         Chaox           Xpecial     Westrice         Dan Dinh   \n",
              "\n",
              "  mid_red_team adc_red_team support_red_team  \n",
              "0        xPeke        Lamia         Mellisan  \n",
              "1         MoMa   YellOwStaR            Kujaa  \n",
              "2     Reginald   TheRainMan          Xpecial  \n",
              "3     Reginald        Chaox          Xpecial  \n",
              "4        Salce        Dyrus       Doublelift  \n",
              "\n",
              "[5 rows x 37 columns]"
            ]
          },
          "execution_count": 4,
          "metadata": {},
          "output_type": "execute_result"
        }
      ],
      "source": [
        "match_df.head()"
      ]
    },
    {
      "cell_type": "code",
      "execution_count": 5,
      "metadata": {},
      "outputs": [
        {
          "data": {
            "text/plain": [
              "Akali           37\n",
              "Twisted Fate    37\n",
              "LeBlanc         34\n",
              "Syndra          32\n",
              "Irelia          31\n",
              "                ..\n",
              "Ekko             1\n",
              "Miss Fortune     1\n",
              "Gangplank        1\n",
              "Kayn             1\n",
              "Senna            1\n",
              "Name: ban_1_blue_team, Length: 123, dtype: int64"
            ]
          },
          "execution_count": 5,
          "metadata": {},
          "output_type": "execute_result"
        }
      ],
      "source": [
        "match_df['ban_1_blue_team'].value_counts()"
      ]
    },
    {
      "cell_type": "code",
      "execution_count": 6,
      "metadata": {},
      "outputs": [
        {
          "data": {
            "text/html": [
              "<div>\n",
              "<style scoped>\n",
              "    .dataframe tbody tr th:only-of-type {\n",
              "        vertical-align: middle;\n",
              "    }\n",
              "\n",
              "    .dataframe tbody tr th {\n",
              "        vertical-align: top;\n",
              "    }\n",
              "\n",
              "    .dataframe thead th {\n",
              "        text-align: right;\n",
              "    }\n",
              "</style>\n",
              "<table border=\"1\" class=\"dataframe\">\n",
              "  <thead>\n",
              "    <tr style=\"text-align: right;\">\n",
              "      <th></th>\n",
              "      <th>season</th>\n",
              "      <th>event</th>\n",
              "      <th>team</th>\n",
              "      <th>player</th>\n",
              "      <th>games_played</th>\n",
              "      <th>wins</th>\n",
              "      <th>loses</th>\n",
              "      <th>win_rate</th>\n",
              "      <th>kills</th>\n",
              "      <th>deaths</th>\n",
              "      <th>...</th>\n",
              "      <th>kill_death_assist_ratio</th>\n",
              "      <th>creep_score</th>\n",
              "      <th>cs/min</th>\n",
              "      <th>gold</th>\n",
              "      <th>gold/min</th>\n",
              "      <th>damage</th>\n",
              "      <th>damage/min</th>\n",
              "      <th>kill_participation</th>\n",
              "      <th>kill_share</th>\n",
              "      <th>gold_share</th>\n",
              "    </tr>\n",
              "  </thead>\n",
              "  <tbody>\n",
              "    <tr>\n",
              "      <th>0</th>\n",
              "      <td>1</td>\n",
              "      <td>Main</td>\n",
              "      <td>Against_All_authority</td>\n",
              "      <td>Kujaa</td>\n",
              "      <td>12</td>\n",
              "      <td>7</td>\n",
              "      <td>5</td>\n",
              "      <td>58.3</td>\n",
              "      <td>0.25</td>\n",
              "      <td>2.58</td>\n",
              "      <td>...</td>\n",
              "      <td>3.32</td>\n",
              "      <td>13.58</td>\n",
              "      <td>0.34</td>\n",
              "      <td>7.8</td>\n",
              "      <td>198</td>\n",
              "      <td>NaN</td>\n",
              "      <td>NaN</td>\n",
              "      <td>NaN</td>\n",
              "      <td>NaN</td>\n",
              "      <td>NaN</td>\n",
              "    </tr>\n",
              "    <tr>\n",
              "      <th>1</th>\n",
              "      <td>1</td>\n",
              "      <td>Main</td>\n",
              "      <td>Against_All_authority</td>\n",
              "      <td>Linak</td>\n",
              "      <td>12</td>\n",
              "      <td>7</td>\n",
              "      <td>5</td>\n",
              "      <td>58.3</td>\n",
              "      <td>1.75</td>\n",
              "      <td>3.58</td>\n",
              "      <td>...</td>\n",
              "      <td>2.63</td>\n",
              "      <td>113.17</td>\n",
              "      <td>2.86</td>\n",
              "      <td>10.3</td>\n",
              "      <td>259</td>\n",
              "      <td>NaN</td>\n",
              "      <td>NaN</td>\n",
              "      <td>NaN</td>\n",
              "      <td>NaN</td>\n",
              "      <td>NaN</td>\n",
              "    </tr>\n",
              "    <tr>\n",
              "      <th>2</th>\n",
              "      <td>1</td>\n",
              "      <td>Main</td>\n",
              "      <td>Against_All_authority</td>\n",
              "      <td>MoMa</td>\n",
              "      <td>12</td>\n",
              "      <td>7</td>\n",
              "      <td>5</td>\n",
              "      <td>58.3</td>\n",
              "      <td>4.17</td>\n",
              "      <td>2.75</td>\n",
              "      <td>...</td>\n",
              "      <td>3.55</td>\n",
              "      <td>242.25</td>\n",
              "      <td>6.13</td>\n",
              "      <td>12.1</td>\n",
              "      <td>307</td>\n",
              "      <td>NaN</td>\n",
              "      <td>NaN</td>\n",
              "      <td>NaN</td>\n",
              "      <td>NaN</td>\n",
              "      <td>NaN</td>\n",
              "    </tr>\n",
              "    <tr>\n",
              "      <th>3</th>\n",
              "      <td>1</td>\n",
              "      <td>Main</td>\n",
              "      <td>Against_All_authority</td>\n",
              "      <td>sOAZ</td>\n",
              "      <td>12</td>\n",
              "      <td>7</td>\n",
              "      <td>5</td>\n",
              "      <td>58.3</td>\n",
              "      <td>4.00</td>\n",
              "      <td>2.92</td>\n",
              "      <td>...</td>\n",
              "      <td>3.80</td>\n",
              "      <td>214.67</td>\n",
              "      <td>5.43</td>\n",
              "      <td>11.6</td>\n",
              "      <td>293</td>\n",
              "      <td>NaN</td>\n",
              "      <td>NaN</td>\n",
              "      <td>NaN</td>\n",
              "      <td>NaN</td>\n",
              "      <td>NaN</td>\n",
              "    </tr>\n",
              "    <tr>\n",
              "      <th>4</th>\n",
              "      <td>1</td>\n",
              "      <td>Main</td>\n",
              "      <td>Against_All_authority</td>\n",
              "      <td>YellOwStaR</td>\n",
              "      <td>12</td>\n",
              "      <td>7</td>\n",
              "      <td>5</td>\n",
              "      <td>58.3</td>\n",
              "      <td>3.75</td>\n",
              "      <td>3.25</td>\n",
              "      <td>...</td>\n",
              "      <td>2.74</td>\n",
              "      <td>276.33</td>\n",
              "      <td>6.99</td>\n",
              "      <td>13.2</td>\n",
              "      <td>333</td>\n",
              "      <td>NaN</td>\n",
              "      <td>NaN</td>\n",
              "      <td>NaN</td>\n",
              "      <td>NaN</td>\n",
              "      <td>NaN</td>\n",
              "    </tr>\n",
              "  </tbody>\n",
              "</table>\n",
              "<p>5 rows × 21 columns</p>\n",
              "</div>"
            ],
            "text/plain": [
              "   season event                   team      player  games_played  wins  loses  \\\n",
              "0       1  Main  Against_All_authority       Kujaa            12     7      5   \n",
              "1       1  Main  Against_All_authority       Linak            12     7      5   \n",
              "2       1  Main  Against_All_authority        MoMa            12     7      5   \n",
              "3       1  Main  Against_All_authority        sOAZ            12     7      5   \n",
              "4       1  Main  Against_All_authority  YellOwStaR            12     7      5   \n",
              "\n",
              "   win_rate  kills  deaths  ...  kill_death_assist_ratio  creep_score  cs/min  \\\n",
              "0      58.3   0.25    2.58  ...                     3.32        13.58    0.34   \n",
              "1      58.3   1.75    3.58  ...                     2.63       113.17    2.86   \n",
              "2      58.3   4.17    2.75  ...                     3.55       242.25    6.13   \n",
              "3      58.3   4.00    2.92  ...                     3.80       214.67    5.43   \n",
              "4      58.3   3.75    3.25  ...                     2.74       276.33    6.99   \n",
              "\n",
              "   gold  gold/min  damage  damage/min  kill_participation  kill_share  \\\n",
              "0   7.8       198     NaN         NaN                 NaN         NaN   \n",
              "1  10.3       259     NaN         NaN                 NaN         NaN   \n",
              "2  12.1       307     NaN         NaN                 NaN         NaN   \n",
              "3  11.6       293     NaN         NaN                 NaN         NaN   \n",
              "4  13.2       333     NaN         NaN                 NaN         NaN   \n",
              "\n",
              "   gold_share  \n",
              "0         NaN  \n",
              "1         NaN  \n",
              "2         NaN  \n",
              "3         NaN  \n",
              "4         NaN  \n",
              "\n",
              "[5 rows x 21 columns]"
            ]
          },
          "execution_count": 6,
          "metadata": {},
          "output_type": "execute_result"
        }
      ],
      "source": [
        "player_df.head()"
      ]
    },
    {
      "cell_type": "code",
      "execution_count": 7,
      "metadata": {},
      "outputs": [
        {
          "data": {
            "text/plain": [
              "Index(['season', 'event', 'team', 'player', 'games_played', 'wins', 'loses',\n",
              "       'win_rate', 'kills', 'deaths', 'assists', 'kill_death_assist_ratio',\n",
              "       'creep_score', 'cs/min', 'gold', 'gold/min', 'damage', 'damage/min',\n",
              "       'kill_participation', 'kill_share', 'gold_share'],\n",
              "      dtype='object')"
            ]
          },
          "execution_count": 7,
          "metadata": {},
          "output_type": "execute_result"
        }
      ],
      "source": [
        "player_df.columns"
      ]
    },
    {
      "cell_type": "code",
      "execution_count": 8,
      "metadata": {},
      "outputs": [
        {
          "data": {
            "text/plain": [
              "Index(['season', 'date', 'event', 'patch', 'blue_team', 'red_team', 'winner',\n",
              "       'ban_1_blue_team', 'ban_2_blue_team', 'ban_3_blue_team',\n",
              "       'ban_4_blue_team', 'ban_5_blue_team', 'ban_1_red_team',\n",
              "       'ban_2_red_team', 'ban_3_red_team', 'ban_4_red_team', 'ban_5_red_team',\n",
              "       'pick_1_blue_team', 'pick_2_blue_team', 'pick_3_blue_team',\n",
              "       'pick_4_blue_team', 'pick_5_blue_team', 'pick_1_red_team',\n",
              "       'pick_2_red_team', 'pick_3_red_team', 'pick_4_red_team',\n",
              "       'pick_5_red_team', 'top_blue_team', 'jungler_blue_team',\n",
              "       'mid_blue_team', 'adc_blue_team', 'support_blue_team', 'top_red_team',\n",
              "       'jungler_red_team', 'mid_red_team', 'adc_red_team', 'support_red_team'],\n",
              "      dtype='object')"
            ]
          },
          "execution_count": 8,
          "metadata": {},
          "output_type": "execute_result"
        }
      ],
      "source": [
        "match_df.columns"
      ]
    },
    {
      "cell_type": "markdown",
      "metadata": {
        "id": "rOnMqVVhIhfx"
      },
      "source": [
        "# DATA WRANGLING"
      ]
    },
    {
      "cell_type": "code",
      "execution_count": 9,
      "metadata": {},
      "outputs": [],
      "source": [
        "# make new dataframe with as much relevant data as possible including target.\n",
        "def wrangle2(player_data=player_df, match_data=match_df):\n",
        "    cutoff = 50\n",
        "    p = \"(ban|pick)\"\n",
        "    pa = \"(kill_death_assist_ratio|win_rate)\"\n",
        "    drop_cols = []\n",
        "\n",
        "    df.drop(columns=['event'], inplace=True)\n",
        "\n",
        "    for col in df.columns:\n",
        "        if re.match(p, col) != None:\n",
        "            drop_cols.append(col)\n",
        "        elif re.fullmatch(pa, col) != None:\n",
        "            drop_cols.append(col)\n",
        "        elif df[col].isnull().sum() > cutoff:\n",
        "            drop_cols.append(col)\n",
        "\n",
        "    df.drop(columns=drop_cols, inplace=True)\n",
        "    "
      ]
    },
    {
      "cell_type": "code",
      "execution_count": 10,
      "metadata": {
        "id": "DNqEvFkNbd4-"
      },
      "outputs": [],
      "source": [
        "# Take a stab at a broad-spec wrangle function\n",
        "\n",
        "def wrangle(df):\n",
        "\n",
        "  # looking at null sums for the three tables lets me know that columns either have 0 null values or greater than 50 \n",
        "  # the match_df has several annoying columns that I can get rid of using regex without messing up the other tables\n",
        "  cutoff = 50\n",
        "  p = \"(ban|pick)\"\n",
        "  pa = \"(kill_death_assist_ratio|win_rate)\"\n",
        "  drop_cols = []\n",
        "  \n",
        "  df.drop(columns=['event'], inplace=True)\n",
        "\n",
        "  for col in df.columns:\n",
        "    if re.match(p, col) != None:\n",
        "      drop_cols.append(col)\n",
        "    elif re.fullmatch(pa, col) != None:\n",
        "      drop_cols.append(col)\n",
        "    elif df[col].isnull().sum() > cutoff:\n",
        "      drop_cols.append(col)\n",
        "\n",
        "  df.drop(columns=drop_cols, inplace=True)\n",
        "\n",
        "  return df\n"
      ]
    },
    {
      "cell_type": "code",
      "execution_count": 11,
      "metadata": {
        "id": "nto3GhlY_V68"
      },
      "outputs": [],
      "source": [
        "cdf = champ_df.loc[champ_df['event'] == 'Main']\n",
        "mdf = match_df.loc[match_df['event'] == 'Main']\n",
        "pdf = player_df.loc[player_df['event'] == 'Main']"
      ]
    },
    {
      "cell_type": "code",
      "execution_count": 12,
      "metadata": {
        "colab": {
          "base_uri": "https://localhost:8080/"
        },
        "id": "d_lwce8s_fDv",
        "outputId": "872cf93a-5751-48a6-8dec-35f580be605f"
      },
      "outputs": [
        {
          "name": "stderr",
          "output_type": "stream",
          "text": [
            "C:\\Users\\Jak\\AppData\\Local\\Temp\\ipykernel_20904\\3977524157.py:12: SettingWithCopyWarning: \n",
            "A value is trying to be set on a copy of a slice from a DataFrame\n",
            "\n",
            "See the caveats in the documentation: https://pandas.pydata.org/pandas-docs/stable/user_guide/indexing.html#returning-a-view-versus-a-copy\n",
            "  df.drop(columns=['event'], inplace=True)\n",
            "C:\\Users\\Jak\\AppData\\Local\\Temp\\ipykernel_20904\\3977524157.py:22: SettingWithCopyWarning: \n",
            "A value is trying to be set on a copy of a slice from a DataFrame\n",
            "\n",
            "See the caveats in the documentation: https://pandas.pydata.org/pandas-docs/stable/user_guide/indexing.html#returning-a-view-versus-a-copy\n",
            "  df.drop(columns=drop_cols, inplace=True)\n",
            "C:\\Users\\Jak\\AppData\\Local\\Temp\\ipykernel_20904\\3977524157.py:12: SettingWithCopyWarning: \n",
            "A value is trying to be set on a copy of a slice from a DataFrame\n",
            "\n",
            "See the caveats in the documentation: https://pandas.pydata.org/pandas-docs/stable/user_guide/indexing.html#returning-a-view-versus-a-copy\n",
            "  df.drop(columns=['event'], inplace=True)\n",
            "C:\\Users\\Jak\\AppData\\Local\\Temp\\ipykernel_20904\\3977524157.py:22: SettingWithCopyWarning: \n",
            "A value is trying to be set on a copy of a slice from a DataFrame\n",
            "\n",
            "See the caveats in the documentation: https://pandas.pydata.org/pandas-docs/stable/user_guide/indexing.html#returning-a-view-versus-a-copy\n",
            "  df.drop(columns=drop_cols, inplace=True)\n",
            "C:\\Users\\Jak\\AppData\\Local\\Temp\\ipykernel_20904\\3977524157.py:12: SettingWithCopyWarning: \n",
            "A value is trying to be set on a copy of a slice from a DataFrame\n",
            "\n",
            "See the caveats in the documentation: https://pandas.pydata.org/pandas-docs/stable/user_guide/indexing.html#returning-a-view-versus-a-copy\n",
            "  df.drop(columns=['event'], inplace=True)\n",
            "C:\\Users\\Jak\\AppData\\Local\\Temp\\ipykernel_20904\\3977524157.py:22: SettingWithCopyWarning: \n",
            "A value is trying to be set on a copy of a slice from a DataFrame\n",
            "\n",
            "See the caveats in the documentation: https://pandas.pydata.org/pandas-docs/stable/user_guide/indexing.html#returning-a-view-versus-a-copy\n",
            "  df.drop(columns=drop_cols, inplace=True)\n"
          ]
        }
      ],
      "source": [
        "cdf = wrangle(cdf)\n",
        "mdf = wrangle(mdf)\n",
        "pdf = wrangle(pdf)"
      ]
    },
    {
      "cell_type": "code",
      "execution_count": 13,
      "metadata": {
        "colab": {
          "base_uri": "https://localhost:8080/"
        },
        "id": "B7RhfnWQKfMi",
        "outputId": "32c3ef61-9107-48c3-c86d-d4fddf8ac59c"
      },
      "outputs": [
        {
          "data": {
            "text/plain": [
              "(867, 14)"
            ]
          },
          "execution_count": 13,
          "metadata": {},
          "output_type": "execute_result"
        }
      ],
      "source": [
        "cdf.shape"
      ]
    },
    {
      "cell_type": "markdown",
      "metadata": {
        "id": "xCMwf4eQ_EIX"
      },
      "source": [
        "Note: to save time, run only the above cells, then skip to next section."
      ]
    },
    {
      "cell_type": "markdown",
      "metadata": {
        "id": "IWsIZoRtA1UE"
      },
      "source": [
        "# Matches"
      ]
    },
    {
      "cell_type": "code",
      "execution_count": 14,
      "metadata": {
        "colab": {
          "base_uri": "https://localhost:8080/"
        },
        "id": "pq_Nluwjfy-6",
        "outputId": "083095d1-ef65-4707-b8c9-80fd9e719cb8"
      },
      "outputs": [
        {
          "data": {
            "text/plain": [
              "season                 0\n",
              "date                   0\n",
              "event                  0\n",
              "patch                122\n",
              "blue_team              0\n",
              "red_team               0\n",
              "winner                 0\n",
              "ban_1_blue_team        0\n",
              "ban_2_blue_team        0\n",
              "ban_3_blue_team        0\n",
              "ban_4_blue_team      350\n",
              "ban_5_blue_team      352\n",
              "ban_1_red_team         0\n",
              "ban_2_red_team         0\n",
              "ban_3_red_team         0\n",
              "ban_4_red_team       350\n",
              "ban_5_red_team       350\n",
              "pick_1_blue_team       0\n",
              "pick_2_blue_team       0\n",
              "pick_3_blue_team       0\n",
              "pick_4_blue_team       0\n",
              "pick_5_blue_team       0\n",
              "pick_1_red_team        0\n",
              "pick_2_red_team        0\n",
              "pick_3_red_team        0\n",
              "pick_4_red_team        0\n",
              "pick_5_red_team        0\n",
              "top_blue_team          0\n",
              "jungler_blue_team      0\n",
              "mid_blue_team          0\n",
              "adc_blue_team          0\n",
              "support_blue_team      0\n",
              "top_red_team           0\n",
              "jungler_red_team       0\n",
              "mid_red_team           0\n",
              "adc_red_team           0\n",
              "support_red_team       0\n",
              "dtype: int64"
            ]
          },
          "execution_count": 14,
          "metadata": {},
          "output_type": "execute_result"
        }
      ],
      "source": [
        "match_df.isnull().sum()"
      ]
    },
    {
      "cell_type": "code",
      "execution_count": 15,
      "metadata": {
        "id": "Qe5NKLj7f785"
      },
      "outputs": [],
      "source": [
        "# I'm only interested in the main tournament\n",
        "mdf = match_df.loc[match_df['event'] == 'Main']"
      ]
    },
    {
      "cell_type": "code",
      "execution_count": 16,
      "metadata": {
        "colab": {
          "base_uri": "https://localhost:8080/"
        },
        "id": "1QURmdQqh4wu",
        "outputId": "67065249-d937-4053-85e5-e74e2ec6c0ad"
      },
      "outputs": [
        {
          "data": {
            "text/plain": [
              "(823, 37)"
            ]
          },
          "execution_count": 16,
          "metadata": {},
          "output_type": "execute_result"
        }
      ],
      "source": [
        "mdf.shape"
      ]
    },
    {
      "cell_type": "code",
      "execution_count": 17,
      "metadata": {
        "colab": {
          "base_uri": "https://localhost:8080/"
        },
        "id": "0Dgya3C8enye",
        "outputId": "b40f5081-0170-47c5-93f9-71a10cb2c9f4"
      },
      "outputs": [
        {
          "name": "stderr",
          "output_type": "stream",
          "text": [
            "C:\\Users\\Jak\\AppData\\Local\\Temp\\ipykernel_20904\\3977524157.py:12: SettingWithCopyWarning: \n",
            "A value is trying to be set on a copy of a slice from a DataFrame\n",
            "\n",
            "See the caveats in the documentation: https://pandas.pydata.org/pandas-docs/stable/user_guide/indexing.html#returning-a-view-versus-a-copy\n",
            "  df.drop(columns=['event'], inplace=True)\n",
            "C:\\Users\\Jak\\AppData\\Local\\Temp\\ipykernel_20904\\3977524157.py:22: SettingWithCopyWarning: \n",
            "A value is trying to be set on a copy of a slice from a DataFrame\n",
            "\n",
            "See the caveats in the documentation: https://pandas.pydata.org/pandas-docs/stable/user_guide/indexing.html#returning-a-view-versus-a-copy\n",
            "  df.drop(columns=drop_cols, inplace=True)\n"
          ]
        },
        {
          "data": {
            "text/plain": [
              "(823, 15)"
            ]
          },
          "execution_count": 17,
          "metadata": {},
          "output_type": "execute_result"
        }
      ],
      "source": [
        "wrangle(mdf);\n",
        "mdf.shape"
      ]
    },
    {
      "cell_type": "code",
      "execution_count": 18,
      "metadata": {
        "colab": {
          "base_uri": "https://localhost:8080/"
        },
        "id": "PIFOOXM5iG1P",
        "outputId": "3bb70ed4-aeb1-4e91-9df6-e7bf0fb04505"
      },
      "outputs": [
        {
          "data": {
            "text/plain": [
              "Index(['season', 'date', 'blue_team', 'red_team', 'winner', 'top_blue_team',\n",
              "       'jungler_blue_team', 'mid_blue_team', 'adc_blue_team',\n",
              "       'support_blue_team', 'top_red_team', 'jungler_red_team', 'mid_red_team',\n",
              "       'adc_red_team', 'support_red_team'],\n",
              "      dtype='object')"
            ]
          },
          "execution_count": 18,
          "metadata": {},
          "output_type": "execute_result"
        }
      ],
      "source": [
        "mdf.columns"
      ]
    },
    {
      "cell_type": "code",
      "execution_count": 19,
      "metadata": {
        "colab": {
          "base_uri": "https://localhost:8080/",
          "height": 270
        },
        "id": "62kVpd8uoPeX",
        "outputId": "a97c6578-dfcb-4bc8-f74a-2469218b4849"
      },
      "outputs": [
        {
          "data": {
            "text/html": [
              "<div>\n",
              "<style scoped>\n",
              "    .dataframe tbody tr th:only-of-type {\n",
              "        vertical-align: middle;\n",
              "    }\n",
              "\n",
              "    .dataframe tbody tr th {\n",
              "        vertical-align: top;\n",
              "    }\n",
              "\n",
              "    .dataframe thead th {\n",
              "        text-align: right;\n",
              "    }\n",
              "</style>\n",
              "<table border=\"1\" class=\"dataframe\">\n",
              "  <thead>\n",
              "    <tr style=\"text-align: right;\">\n",
              "      <th></th>\n",
              "      <th>season</th>\n",
              "      <th>date</th>\n",
              "      <th>blue_team</th>\n",
              "      <th>red_team</th>\n",
              "      <th>winner</th>\n",
              "      <th>top_blue_team</th>\n",
              "      <th>jungler_blue_team</th>\n",
              "      <th>mid_blue_team</th>\n",
              "      <th>adc_blue_team</th>\n",
              "      <th>support_blue_team</th>\n",
              "      <th>top_red_team</th>\n",
              "      <th>jungler_red_team</th>\n",
              "      <th>mid_red_team</th>\n",
              "      <th>adc_red_team</th>\n",
              "      <th>support_red_team</th>\n",
              "    </tr>\n",
              "  </thead>\n",
              "  <tbody>\n",
              "    <tr>\n",
              "      <th>0</th>\n",
              "      <td>1</td>\n",
              "      <td>2011-06-20</td>\n",
              "      <td>Against_All_authority</td>\n",
              "      <td>Fnatic</td>\n",
              "      <td>Fnatic</td>\n",
              "      <td>MoMa</td>\n",
              "      <td>Linak</td>\n",
              "      <td>sOAZ</td>\n",
              "      <td>YellOwStaR</td>\n",
              "      <td>Kujaa</td>\n",
              "      <td>Shushei</td>\n",
              "      <td>Cyanide</td>\n",
              "      <td>xPeke</td>\n",
              "      <td>Lamia</td>\n",
              "      <td>Mellisan</td>\n",
              "    </tr>\n",
              "    <tr>\n",
              "      <th>1</th>\n",
              "      <td>1</td>\n",
              "      <td>2011-06-20</td>\n",
              "      <td>Fnatic</td>\n",
              "      <td>Against_All_authority</td>\n",
              "      <td>Against_All_authority</td>\n",
              "      <td>Shushei</td>\n",
              "      <td>Cyanide</td>\n",
              "      <td>xPeke</td>\n",
              "      <td>Lamia</td>\n",
              "      <td>Mellisan</td>\n",
              "      <td>sOAZ</td>\n",
              "      <td>Linak</td>\n",
              "      <td>MoMa</td>\n",
              "      <td>YellOwStaR</td>\n",
              "      <td>Kujaa</td>\n",
              "    </tr>\n",
              "    <tr>\n",
              "      <th>2</th>\n",
              "      <td>1</td>\n",
              "      <td>2011-06-20</td>\n",
              "      <td>Against_All_authority</td>\n",
              "      <td>TSM</td>\n",
              "      <td>Against_All_authority</td>\n",
              "      <td>YellOwStaR</td>\n",
              "      <td>Linak</td>\n",
              "      <td>MoMa</td>\n",
              "      <td>sOAZ</td>\n",
              "      <td>Kujaa</td>\n",
              "      <td>Chaox</td>\n",
              "      <td>TheOddOne</td>\n",
              "      <td>Reginald</td>\n",
              "      <td>TheRainMan</td>\n",
              "      <td>Xpecial</td>\n",
              "    </tr>\n",
              "    <tr>\n",
              "      <th>3</th>\n",
              "      <td>1</td>\n",
              "      <td>2011-06-20</td>\n",
              "      <td>Epik_Gamer</td>\n",
              "      <td>TSM</td>\n",
              "      <td>TSM</td>\n",
              "      <td>Dyrus</td>\n",
              "      <td>Dan Dinh</td>\n",
              "      <td>Salce</td>\n",
              "      <td>Westrice</td>\n",
              "      <td>Doublelift</td>\n",
              "      <td>TheRainMan</td>\n",
              "      <td>TheOddOne</td>\n",
              "      <td>Reginald</td>\n",
              "      <td>Chaox</td>\n",
              "      <td>Xpecial</td>\n",
              "    </tr>\n",
              "    <tr>\n",
              "      <th>4</th>\n",
              "      <td>1</td>\n",
              "      <td>2011-06-20</td>\n",
              "      <td>TSM</td>\n",
              "      <td>Epik_Gamer</td>\n",
              "      <td>TSM</td>\n",
              "      <td>TheRainMan</td>\n",
              "      <td>TheOddOne</td>\n",
              "      <td>Reginald</td>\n",
              "      <td>Chaox</td>\n",
              "      <td>Xpecial</td>\n",
              "      <td>Westrice</td>\n",
              "      <td>Dan Dinh</td>\n",
              "      <td>Salce</td>\n",
              "      <td>Dyrus</td>\n",
              "      <td>Doublelift</td>\n",
              "    </tr>\n",
              "  </tbody>\n",
              "</table>\n",
              "</div>"
            ],
            "text/plain": [
              "   season        date              blue_team               red_team  \\\n",
              "0       1  2011-06-20  Against_All_authority                 Fnatic   \n",
              "1       1  2011-06-20                 Fnatic  Against_All_authority   \n",
              "2       1  2011-06-20  Against_All_authority                    TSM   \n",
              "3       1  2011-06-20             Epik_Gamer                    TSM   \n",
              "4       1  2011-06-20                    TSM             Epik_Gamer   \n",
              "\n",
              "                  winner top_blue_team jungler_blue_team mid_blue_team  \\\n",
              "0                 Fnatic          MoMa             Linak          sOAZ   \n",
              "1  Against_All_authority       Shushei           Cyanide         xPeke   \n",
              "2  Against_All_authority    YellOwStaR             Linak          MoMa   \n",
              "3                    TSM         Dyrus          Dan Dinh         Salce   \n",
              "4                    TSM    TheRainMan         TheOddOne      Reginald   \n",
              "\n",
              "  adc_blue_team support_blue_team top_red_team jungler_red_team mid_red_team  \\\n",
              "0    YellOwStaR             Kujaa      Shushei          Cyanide        xPeke   \n",
              "1         Lamia          Mellisan         sOAZ            Linak         MoMa   \n",
              "2          sOAZ             Kujaa        Chaox        TheOddOne     Reginald   \n",
              "3      Westrice        Doublelift   TheRainMan        TheOddOne     Reginald   \n",
              "4         Chaox           Xpecial     Westrice         Dan Dinh        Salce   \n",
              "\n",
              "  adc_red_team support_red_team  \n",
              "0        Lamia         Mellisan  \n",
              "1   YellOwStaR            Kujaa  \n",
              "2   TheRainMan          Xpecial  \n",
              "3        Chaox          Xpecial  \n",
              "4        Dyrus       Doublelift  "
            ]
          },
          "execution_count": 19,
          "metadata": {},
          "output_type": "execute_result"
        }
      ],
      "source": [
        "mdf.head()"
      ]
    },
    {
      "cell_type": "code",
      "execution_count": 20,
      "metadata": {
        "colab": {
          "base_uri": "https://localhost:8080/"
        },
        "id": "305soAiToVA1",
        "outputId": "a9f2be58-1ef5-46da-cb15-a6a052cadc0a"
      },
      "outputs": [
        {
          "name": "stdout",
          "output_type": "stream",
          "text": [
            "Fnatic\n",
            "Azubu_Frost\n",
            "SK_Telecom_T1\n",
            "Samsung_White\n",
            "SK_Telecom_T1\n",
            "SK_Telecom_T1\n",
            "Samsung_Galaxy\n",
            "Invictus_Gaming\n",
            "FunPlus_Phoenix\n",
            "DWG_KIA\n",
            "DWG_KIA\n",
            "DRX\n"
          ]
        }
      ],
      "source": [
        "# according to the dataset the cup champion is not always the one who wins the most games, but I'll still be using that metric for my base\n",
        "# seasons 2 and 11 list the runner up instead of the champion.\n",
        "\n",
        "season = 0\n",
        "\n",
        "while season < mdf['season'].nunique():\n",
        "  season += 1\n",
        "  tmdf = mdf[mdf['season'] == season]\n",
        "  print(tmdf['winner'].value_counts().index[0])"
      ]
    },
    {
      "cell_type": "code",
      "execution_count": 21,
      "metadata": {
        "colab": {
          "base_uri": "https://localhost:8080/"
        },
        "id": "VvczT7tLlt_g",
        "outputId": "35d537a1-3125-448b-edb4-347d5393d6f1"
      },
      "outputs": [
        {
          "data": {
            "text/plain": [
              "season                0\n",
              "date                  0\n",
              "blue_team             0\n",
              "red_team              0\n",
              "winner                0\n",
              "top_blue_team        31\n",
              "jungler_blue_team     0\n",
              "mid_blue_team         0\n",
              "adc_blue_team         0\n",
              "support_blue_team     0\n",
              "top_red_team         31\n",
              "jungler_red_team      0\n",
              "mid_red_team          0\n",
              "adc_red_team          0\n",
              "support_red_team      0\n",
              "dtype: int64"
            ]
          },
          "execution_count": 21,
          "metadata": {},
          "output_type": "execute_result"
        }
      ],
      "source": [
        "# I can use the method below to help gague player contribution \n",
        "mdf[mdf == 'Impact'].count()"
      ]
    },
    {
      "cell_type": "markdown",
      "metadata": {
        "id": "adpoxKr1ZW5v"
      },
      "source": [
        "*Champions*"
      ]
    },
    {
      "cell_type": "markdown",
      "metadata": {
        "id": "IRyQ7e1EA6lZ"
      },
      "source": [
        "# Champions"
      ]
    },
    {
      "cell_type": "code",
      "execution_count": 22,
      "metadata": {
        "colab": {
          "base_uri": "https://localhost:8080/"
        },
        "id": "tGdLtKG5RmVT",
        "outputId": "e60edbb0-6ad9-4881-e069-25145e0413ff"
      },
      "outputs": [
        {
          "data": {
            "text/plain": [
              "(1345, 24)"
            ]
          },
          "execution_count": 22,
          "metadata": {},
          "output_type": "execute_result"
        }
      ],
      "source": [
        "champ_df.shape"
      ]
    },
    {
      "cell_type": "code",
      "execution_count": 23,
      "metadata": {
        "colab": {
          "base_uri": "https://localhost:8080/"
        },
        "id": "pfwKEW5eUo5l",
        "outputId": "9a908865-190c-4eb4-908b-294afeb6063e"
      },
      "outputs": [
        {
          "data": {
            "text/plain": [
              "season                           0\n",
              "event                            0\n",
              "champion                         0\n",
              "games_contests                   0\n",
              "pick_ban_ratio                   0\n",
              "banned_games                   379\n",
              "played_games                     0\n",
              "played_by_number_of_players     52\n",
              "win                              0\n",
              "lose                             0\n",
              "win_rate                        52\n",
              "kills                           52\n",
              "deaths                          52\n",
              "assists                         52\n",
              "kill_death_assist_ratio         52\n",
              "creep_score                     52\n",
              "cs/min                          52\n",
              "gold                            52\n",
              "gold/min                        52\n",
              "damage                         865\n",
              "damage/min                     865\n",
              "kill_participation             222\n",
              "kill_share                     222\n",
              "gold_share                     220\n",
              "dtype: int64"
            ]
          },
          "execution_count": 23,
          "metadata": {},
          "output_type": "execute_result"
        }
      ],
      "source": [
        "champ_df.isnull().sum()"
      ]
    },
    {
      "cell_type": "code",
      "execution_count": 24,
      "metadata": {
        "id": "o4VrWRdcFA3v"
      },
      "outputs": [],
      "source": [
        "# limit df to main event\n",
        "cdf = champ_df.loc[champ_df['event'] == 'Main']"
      ]
    },
    {
      "cell_type": "code",
      "execution_count": 25,
      "metadata": {
        "colab": {
          "base_uri": "https://localhost:8080/"
        },
        "id": "AE7MHISZVC6l",
        "outputId": "44c39b8c-43cb-4dfe-984f-1c958db4803a"
      },
      "outputs": [
        {
          "name": "stderr",
          "output_type": "stream",
          "text": [
            "C:\\Users\\Jak\\AppData\\Local\\Temp\\ipykernel_20904\\3977524157.py:12: SettingWithCopyWarning: \n",
            "A value is trying to be set on a copy of a slice from a DataFrame\n",
            "\n",
            "See the caveats in the documentation: https://pandas.pydata.org/pandas-docs/stable/user_guide/indexing.html#returning-a-view-versus-a-copy\n",
            "  df.drop(columns=['event'], inplace=True)\n",
            "C:\\Users\\Jak\\AppData\\Local\\Temp\\ipykernel_20904\\3977524157.py:22: SettingWithCopyWarning: \n",
            "A value is trying to be set on a copy of a slice from a DataFrame\n",
            "\n",
            "See the caveats in the documentation: https://pandas.pydata.org/pandas-docs/stable/user_guide/indexing.html#returning-a-view-versus-a-copy\n",
            "  df.drop(columns=drop_cols, inplace=True)\n"
          ]
        },
        {
          "data": {
            "text/plain": [
              "(867, 14)"
            ]
          },
          "execution_count": 25,
          "metadata": {},
          "output_type": "execute_result"
        }
      ],
      "source": [
        "wrangle(cdf);\n",
        "cdf.shape"
      ]
    },
    {
      "cell_type": "code",
      "execution_count": 26,
      "metadata": {
        "colab": {
          "base_uri": "https://localhost:8080/"
        },
        "id": "bJkTx8N4Y6KM",
        "outputId": "8598b91b-ca96-4a7e-f82e-cb3e0e73d0fc"
      },
      "outputs": [
        {
          "data": {
            "text/plain": [
              "Index(['season', 'champion', 'games_contests', 'played_games',\n",
              "       'played_by_number_of_players', 'win', 'lose', 'kills', 'deaths',\n",
              "       'assists', 'creep_score', 'cs/min', 'gold', 'gold/min'],\n",
              "      dtype='object')"
            ]
          },
          "execution_count": 26,
          "metadata": {},
          "output_type": "execute_result"
        }
      ],
      "source": [
        "cdf.columns"
      ]
    },
    {
      "cell_type": "code",
      "execution_count": null,
      "metadata": {
        "id": "8oxklFwo2lnq"
      },
      "outputs": [],
      "source": []
    },
    {
      "cell_type": "markdown",
      "metadata": {
        "id": "Xcy5-yXP23Rp"
      },
      "source": [
        "*Player*"
      ]
    },
    {
      "cell_type": "markdown",
      "metadata": {
        "id": "fg-FeCkQA_vp"
      },
      "source": [
        "# Players"
      ]
    },
    {
      "cell_type": "code",
      "execution_count": 27,
      "metadata": {
        "colab": {
          "base_uri": "https://localhost:8080/"
        },
        "id": "rRJud-8r29hN",
        "outputId": "1bbfc4b3-7cb6-413c-d7ee-584f48c4922f"
      },
      "outputs": [
        {
          "data": {
            "text/plain": [
              "(1283, 21)"
            ]
          },
          "execution_count": 27,
          "metadata": {},
          "output_type": "execute_result"
        }
      ],
      "source": [
        "player_df.shape"
      ]
    },
    {
      "cell_type": "code",
      "execution_count": 28,
      "metadata": {
        "colab": {
          "base_uri": "https://localhost:8080/"
        },
        "id": "hL6RfZuB258F",
        "outputId": "a4acad92-e0d7-497a-824d-7a74940294ad"
      },
      "outputs": [
        {
          "data": {
            "text/plain": [
              "season                       0\n",
              "event                        0\n",
              "team                         0\n",
              "player                       0\n",
              "games_played                 0\n",
              "wins                         0\n",
              "loses                        0\n",
              "win_rate                     0\n",
              "kills                        0\n",
              "deaths                       0\n",
              "assists                      0\n",
              "kill_death_assist_ratio      0\n",
              "creep_score                  0\n",
              "cs/min                       0\n",
              "gold                         0\n",
              "gold/min                     0\n",
              "damage                     874\n",
              "damage/min                 874\n",
              "kill_participation         172\n",
              "kill_share                 172\n",
              "gold_share                 172\n",
              "dtype: int64"
            ]
          },
          "execution_count": 28,
          "metadata": {},
          "output_type": "execute_result"
        }
      ],
      "source": [
        "player_df.isnull().sum()"
      ]
    },
    {
      "cell_type": "code",
      "execution_count": 29,
      "metadata": {
        "id": "kFLCpjRK2_cJ"
      },
      "outputs": [],
      "source": [
        "pdf = player_df.loc[player_df['event'] == 'Main']"
      ]
    },
    {
      "cell_type": "code",
      "execution_count": 30,
      "metadata": {
        "colab": {
          "base_uri": "https://localhost:8080/"
        },
        "id": "YQ7pZ6BL3JJB",
        "outputId": "25f439b5-e5a6-40d0-d9a3-d55a10990b1e"
      },
      "outputs": [
        {
          "name": "stderr",
          "output_type": "stream",
          "text": [
            "C:\\Users\\Jak\\AppData\\Local\\Temp\\ipykernel_20904\\3977524157.py:12: SettingWithCopyWarning: \n",
            "A value is trying to be set on a copy of a slice from a DataFrame\n",
            "\n",
            "See the caveats in the documentation: https://pandas.pydata.org/pandas-docs/stable/user_guide/indexing.html#returning-a-view-versus-a-copy\n",
            "  df.drop(columns=['event'], inplace=True)\n",
            "C:\\Users\\Jak\\AppData\\Local\\Temp\\ipykernel_20904\\3977524157.py:22: SettingWithCopyWarning: \n",
            "A value is trying to be set on a copy of a slice from a DataFrame\n",
            "\n",
            "See the caveats in the documentation: https://pandas.pydata.org/pandas-docs/stable/user_guide/indexing.html#returning-a-view-versus-a-copy\n",
            "  df.drop(columns=drop_cols, inplace=True)\n"
          ]
        },
        {
          "data": {
            "text/plain": [
              "(929, 13)"
            ]
          },
          "execution_count": 30,
          "metadata": {},
          "output_type": "execute_result"
        }
      ],
      "source": [
        "wrangle(pdf);\n",
        "pdf.shape"
      ]
    },
    {
      "cell_type": "markdown",
      "metadata": {
        "id": "Z8LBepoRBDoB"
      },
      "source": [
        "# Analysis"
      ]
    },
    {
      "cell_type": "code",
      "execution_count": 31,
      "metadata": {
        "colab": {
          "base_uri": "https://localhost:8080/"
        },
        "id": "Ca3zCMrZ38eR",
        "outputId": "1f3841a4-8dc4-4f29-b8ca-ea9dc55aa66f"
      },
      "outputs": [
        {
          "data": {
            "text/plain": [
              "Index(['season', 'champion', 'games_contests', 'played_games',\n",
              "       'played_by_number_of_players', 'win', 'lose', 'kills', 'deaths',\n",
              "       'assists', 'creep_score', 'cs/min', 'gold', 'gold/min'],\n",
              "      dtype='object')"
            ]
          },
          "execution_count": 31,
          "metadata": {},
          "output_type": "execute_result"
        }
      ],
      "source": [
        "cdf.columns"
      ]
    },
    {
      "cell_type": "code",
      "execution_count": 32,
      "metadata": {
        "colab": {
          "base_uri": "https://localhost:8080/"
        },
        "id": "JSi-Z_yf38XU",
        "outputId": "4f3ccf8f-f18c-441c-f6b2-e9307d02bd0c"
      },
      "outputs": [
        {
          "data": {
            "text/plain": [
              "Index(['season', 'date', 'blue_team', 'red_team', 'winner', 'top_blue_team',\n",
              "       'jungler_blue_team', 'mid_blue_team', 'adc_blue_team',\n",
              "       'support_blue_team', 'top_red_team', 'jungler_red_team', 'mid_red_team',\n",
              "       'adc_red_team', 'support_red_team'],\n",
              "      dtype='object')"
            ]
          },
          "execution_count": 32,
          "metadata": {},
          "output_type": "execute_result"
        }
      ],
      "source": [
        "mdf.columns"
      ]
    },
    {
      "cell_type": "code",
      "execution_count": 33,
      "metadata": {
        "colab": {
          "base_uri": "https://localhost:8080/"
        },
        "id": "NeYPgMoK38MJ",
        "outputId": "58c2718b-3adc-41ba-d9d7-9ace928c3170"
      },
      "outputs": [
        {
          "data": {
            "text/plain": [
              "Index(['season', 'team', 'player', 'games_played', 'wins', 'loses', 'kills',\n",
              "       'deaths', 'assists', 'creep_score', 'cs/min', 'gold', 'gold/min'],\n",
              "      dtype='object')"
            ]
          },
          "execution_count": 33,
          "metadata": {},
          "output_type": "execute_result"
        }
      ],
      "source": [
        "pdf.columns"
      ]
    },
    {
      "cell_type": "code",
      "execution_count": 34,
      "metadata": {
        "id": "_6PWupSVO1xB"
      },
      "outputs": [],
      "source": [
        "# going by season might be too small a dataset to work with effectively"
      ]
    },
    {
      "cell_type": "code",
      "execution_count": 35,
      "metadata": {
        "id": "ALZEFGT3N_V6"
      },
      "outputs": [],
      "source": [
        "# make sure win loss across data is balanced\n",
        "# consider re-adding high null count rows/values (sub with mean/median/mode values to estimate) especially helpful with cross validation techniques "
      ]
    },
    {
      "cell_type": "code",
      "execution_count": 36,
      "metadata": {
        "id": "pT2fIsQy3M9M"
      },
      "outputs": [],
      "source": [
        "'''\n",
        "cdf = champion data\n",
        "mdf = match data\n",
        "pdf = player data\n",
        "\n",
        "Ultimately I'm interested in predicting a winner. Should I use the champion or player?\n",
        "  maybe I should try to work out a new dataframe that links the player to the champion they played? (that might be impossible)\n",
        "\n",
        "for now let's see what the most important role seems to be, season by season.\n",
        "  contribution score: TODO\n",
        "''';"
      ]
    },
    {
      "cell_type": "code",
      "execution_count": 37,
      "metadata": {
        "id": "MGFXyOprTfU9"
      },
      "outputs": [],
      "source": [
        "def make_season(df, season):\n",
        "  df = df[df['season'] == season]\n",
        "  df.drop(columns='season', inplace=True)\n",
        "  return df"
      ]
    },
    {
      "cell_type": "code",
      "execution_count": 38,
      "metadata": {},
      "outputs": [],
      "source": [
        "season = 1"
      ]
    },
    {
      "cell_type": "code",
      "execution_count": 39,
      "metadata": {
        "id": "Co0WC0h_R4XJ"
      },
      "outputs": [
        {
          "name": "stderr",
          "output_type": "stream",
          "text": [
            "C:\\Users\\Jak\\AppData\\Local\\Temp\\ipykernel_20904\\3372274193.py:3: SettingWithCopyWarning: \n",
            "A value is trying to be set on a copy of a slice from a DataFrame\n",
            "\n",
            "See the caveats in the documentation: https://pandas.pydata.org/pandas-docs/stable/user_guide/indexing.html#returning-a-view-versus-a-copy\n",
            "  df.drop(columns='season', inplace=True)\n"
          ]
        }
      ],
      "source": [
        "m1 = make_season(mdf, season)"
      ]
    },
    {
      "cell_type": "code",
      "execution_count": 40,
      "metadata": {
        "id": "glrjVM8w4Vsz"
      },
      "outputs": [
        {
          "name": "stderr",
          "output_type": "stream",
          "text": [
            "C:\\Users\\Jak\\AppData\\Local\\Temp\\ipykernel_20904\\3372274193.py:3: SettingWithCopyWarning: \n",
            "A value is trying to be set on a copy of a slice from a DataFrame\n",
            "\n",
            "See the caveats in the documentation: https://pandas.pydata.org/pandas-docs/stable/user_guide/indexing.html#returning-a-view-versus-a-copy\n",
            "  df.drop(columns='season', inplace=True)\n"
          ]
        }
      ],
      "source": [
        "p1 = make_season(pdf, season)"
      ]
    },
    {
      "cell_type": "code",
      "execution_count": 41,
      "metadata": {
        "id": "0ubVB56HUIWG"
      },
      "outputs": [],
      "source": [
        "# only interested in players from the winning team of each match\n",
        "# so for each match, take the winning team and figure out what I want from each player (k/d) to start\n",
        "# return reference to their position\n",
        "# stats are averages over all games they played that season"
      ]
    },
    {
      "cell_type": "code",
      "execution_count": 42,
      "metadata": {},
      "outputs": [],
      "source": [
        "# make df, cols = [top, jung, mid, adc, supp] index = p1['player']\n",
        "positions = ['top', 'jungler', 'mid', 'adc', 'support', 'team']\n",
        "\n",
        "pos_df = pd.DataFrame(0, index=p1['player'], columns=positions)"
      ]
    },
    {
      "cell_type": "code",
      "execution_count": 43,
      "metadata": {},
      "outputs": [],
      "source": [
        "t1 = m1.drop(columns=['date', 'blue_team', 'red_team', 'winner'])"
      ]
    },
    {
      "cell_type": "code",
      "execution_count": 44,
      "metadata": {},
      "outputs": [],
      "source": [
        "for col in t1.columns:\n",
        "    for position in positions:\n",
        "        if re.match(position, col):\n",
        "            counts = t1[col].value_counts()\n",
        "            for player in counts.index:\n",
        "                pos_df.loc[player.strip(), position] += counts.at[f'{player}']\n"
      ]
    },
    {
      "cell_type": "code",
      "execution_count": 45,
      "metadata": {},
      "outputs": [],
      "source": [
        "for player in p1.index:\n",
        "    if p1['player'][player] in pos_df.index:\n",
        "        pos_df['team'][pos_df.index == p1['player'][player]] = p1['team'][player]"
      ]
    },
    {
      "cell_type": "code",
      "execution_count": 46,
      "metadata": {},
      "outputs": [],
      "source": [
        "# we now have percentage of games played as each position\n",
        "# now we need to make overall contribution scores which can be weighted to position by that percentage\n",
        "# factors = ['kills', 'deaths', 'assists', 'gold']\n",
        "# surprise! kills, assists, and creep_score are all directly linked to a player's gold\n",
        "# gold might be the single largest deciding factor \n",
        "# (it also means that I need to either test based on gold or by dropping gold to prevent data leakage)"
      ]
    },
    {
      "cell_type": "code",
      "execution_count": 47,
      "metadata": {},
      "outputs": [],
      "source": [
        "teams = set((p1['team']))\n",
        "teams = list(teams)\n",
        "players_by_team_df = pd.DataFrame(np.nan, index=teams, columns=['avg_gold/min'])"
      ]
    },
    {
      "cell_type": "code",
      "execution_count": 48,
      "metadata": {},
      "outputs": [],
      "source": [
        "# get every player for each team and get their gold/min score\n",
        "golds = []\n",
        "\n",
        "for team in teams:\n",
        "    for player in p1.index:\n",
        "        if team in p1['team'][player]:\n",
        "            golds.append(p1['gold/min'][player])\n",
        "        if p1.index[player] == p1.index[-1]:\n",
        "            players_by_team_df['avg_gold/min'][players_by_team_df.index == team] = sum(golds)/len(golds)\n",
        "            golds = []"
      ]
    },
    {
      "cell_type": "code",
      "execution_count": 49,
      "metadata": {},
      "outputs": [],
      "source": [
        "# use the match data (where they list blue team vs red team and winner) and predict which team will win based on 'avg_gold/min'\n",
        "# basically sub team names for their gold score and then re-interpret and spit back out the associated name."
      ]
    },
    {
      "cell_type": "code",
      "execution_count": 50,
      "metadata": {},
      "outputs": [
        {
          "data": {
            "text/html": [
              "<div>\n",
              "<style scoped>\n",
              "    .dataframe tbody tr th:only-of-type {\n",
              "        vertical-align: middle;\n",
              "    }\n",
              "\n",
              "    .dataframe tbody tr th {\n",
              "        vertical-align: top;\n",
              "    }\n",
              "\n",
              "    .dataframe thead th {\n",
              "        text-align: right;\n",
              "    }\n",
              "</style>\n",
              "<table border=\"1\" class=\"dataframe\">\n",
              "  <thead>\n",
              "    <tr style=\"text-align: right;\">\n",
              "      <th></th>\n",
              "      <th>date</th>\n",
              "      <th>blue_team</th>\n",
              "      <th>red_team</th>\n",
              "      <th>winner</th>\n",
              "      <th>top_blue_team</th>\n",
              "      <th>jungler_blue_team</th>\n",
              "      <th>mid_blue_team</th>\n",
              "      <th>adc_blue_team</th>\n",
              "      <th>support_blue_team</th>\n",
              "      <th>top_red_team</th>\n",
              "      <th>jungler_red_team</th>\n",
              "      <th>mid_red_team</th>\n",
              "      <th>adc_red_team</th>\n",
              "      <th>support_red_team</th>\n",
              "    </tr>\n",
              "  </thead>\n",
              "  <tbody>\n",
              "    <tr>\n",
              "      <th>0</th>\n",
              "      <td>2011-06-20</td>\n",
              "      <td>Against_All_authority</td>\n",
              "      <td>Fnatic</td>\n",
              "      <td>Fnatic</td>\n",
              "      <td>MoMa</td>\n",
              "      <td>Linak</td>\n",
              "      <td>sOAZ</td>\n",
              "      <td>YellOwStaR</td>\n",
              "      <td>Kujaa</td>\n",
              "      <td>Shushei</td>\n",
              "      <td>Cyanide</td>\n",
              "      <td>xPeke</td>\n",
              "      <td>Lamia</td>\n",
              "      <td>Mellisan</td>\n",
              "    </tr>\n",
              "    <tr>\n",
              "      <th>1</th>\n",
              "      <td>2011-06-20</td>\n",
              "      <td>Fnatic</td>\n",
              "      <td>Against_All_authority</td>\n",
              "      <td>Against_All_authority</td>\n",
              "      <td>Shushei</td>\n",
              "      <td>Cyanide</td>\n",
              "      <td>xPeke</td>\n",
              "      <td>Lamia</td>\n",
              "      <td>Mellisan</td>\n",
              "      <td>sOAZ</td>\n",
              "      <td>Linak</td>\n",
              "      <td>MoMa</td>\n",
              "      <td>YellOwStaR</td>\n",
              "      <td>Kujaa</td>\n",
              "    </tr>\n",
              "    <tr>\n",
              "      <th>2</th>\n",
              "      <td>2011-06-20</td>\n",
              "      <td>Against_All_authority</td>\n",
              "      <td>TSM</td>\n",
              "      <td>Against_All_authority</td>\n",
              "      <td>YellOwStaR</td>\n",
              "      <td>Linak</td>\n",
              "      <td>MoMa</td>\n",
              "      <td>sOAZ</td>\n",
              "      <td>Kujaa</td>\n",
              "      <td>Chaox</td>\n",
              "      <td>TheOddOne</td>\n",
              "      <td>Reginald</td>\n",
              "      <td>TheRainMan</td>\n",
              "      <td>Xpecial</td>\n",
              "    </tr>\n",
              "    <tr>\n",
              "      <th>3</th>\n",
              "      <td>2011-06-20</td>\n",
              "      <td>Epik_Gamer</td>\n",
              "      <td>TSM</td>\n",
              "      <td>TSM</td>\n",
              "      <td>Dyrus</td>\n",
              "      <td>Dan Dinh</td>\n",
              "      <td>Salce</td>\n",
              "      <td>Westrice</td>\n",
              "      <td>Doublelift</td>\n",
              "      <td>TheRainMan</td>\n",
              "      <td>TheOddOne</td>\n",
              "      <td>Reginald</td>\n",
              "      <td>Chaox</td>\n",
              "      <td>Xpecial</td>\n",
              "    </tr>\n",
              "    <tr>\n",
              "      <th>4</th>\n",
              "      <td>2011-06-20</td>\n",
              "      <td>TSM</td>\n",
              "      <td>Epik_Gamer</td>\n",
              "      <td>TSM</td>\n",
              "      <td>TheRainMan</td>\n",
              "      <td>TheOddOne</td>\n",
              "      <td>Reginald</td>\n",
              "      <td>Chaox</td>\n",
              "      <td>Xpecial</td>\n",
              "      <td>Westrice</td>\n",
              "      <td>Dan Dinh</td>\n",
              "      <td>Salce</td>\n",
              "      <td>Dyrus</td>\n",
              "      <td>Doublelift</td>\n",
              "    </tr>\n",
              "  </tbody>\n",
              "</table>\n",
              "</div>"
            ],
            "text/plain": [
              "         date              blue_team               red_team  \\\n",
              "0  2011-06-20  Against_All_authority                 Fnatic   \n",
              "1  2011-06-20                 Fnatic  Against_All_authority   \n",
              "2  2011-06-20  Against_All_authority                    TSM   \n",
              "3  2011-06-20             Epik_Gamer                    TSM   \n",
              "4  2011-06-20                    TSM             Epik_Gamer   \n",
              "\n",
              "                  winner top_blue_team jungler_blue_team mid_blue_team  \\\n",
              "0                 Fnatic          MoMa             Linak          sOAZ   \n",
              "1  Against_All_authority       Shushei           Cyanide         xPeke   \n",
              "2  Against_All_authority    YellOwStaR             Linak          MoMa   \n",
              "3                    TSM         Dyrus          Dan Dinh         Salce   \n",
              "4                    TSM    TheRainMan         TheOddOne      Reginald   \n",
              "\n",
              "  adc_blue_team support_blue_team top_red_team jungler_red_team mid_red_team  \\\n",
              "0    YellOwStaR             Kujaa      Shushei          Cyanide        xPeke   \n",
              "1         Lamia          Mellisan         sOAZ            Linak         MoMa   \n",
              "2          sOAZ             Kujaa        Chaox        TheOddOne     Reginald   \n",
              "3      Westrice        Doublelift   TheRainMan        TheOddOne     Reginald   \n",
              "4         Chaox           Xpecial     Westrice         Dan Dinh        Salce   \n",
              "\n",
              "  adc_red_team support_red_team  \n",
              "0        Lamia         Mellisan  \n",
              "1   YellOwStaR            Kujaa  \n",
              "2   TheRainMan          Xpecial  \n",
              "3        Chaox          Xpecial  \n",
              "4        Dyrus       Doublelift  "
            ]
          },
          "execution_count": 50,
          "metadata": {},
          "output_type": "execute_result"
        }
      ],
      "source": [
        "m1.head()"
      ]
    },
    {
      "cell_type": "code",
      "execution_count": 51,
      "metadata": {},
      "outputs": [],
      "source": [
        "gchart = m1[['blue_team', 'red_team', 'winner']]"
      ]
    },
    {
      "cell_type": "code",
      "execution_count": 52,
      "metadata": {},
      "outputs": [
        {
          "data": {
            "text/html": [
              "<div>\n",
              "<style scoped>\n",
              "    .dataframe tbody tr th:only-of-type {\n",
              "        vertical-align: middle;\n",
              "    }\n",
              "\n",
              "    .dataframe tbody tr th {\n",
              "        vertical-align: top;\n",
              "    }\n",
              "\n",
              "    .dataframe thead th {\n",
              "        text-align: right;\n",
              "    }\n",
              "</style>\n",
              "<table border=\"1\" class=\"dataframe\">\n",
              "  <thead>\n",
              "    <tr style=\"text-align: right;\">\n",
              "      <th></th>\n",
              "      <th>blue_team</th>\n",
              "      <th>red_team</th>\n",
              "      <th>winner</th>\n",
              "    </tr>\n",
              "  </thead>\n",
              "  <tbody>\n",
              "    <tr>\n",
              "      <th>0</th>\n",
              "      <td>Against_All_authority</td>\n",
              "      <td>Fnatic</td>\n",
              "      <td>Fnatic</td>\n",
              "    </tr>\n",
              "    <tr>\n",
              "      <th>1</th>\n",
              "      <td>Fnatic</td>\n",
              "      <td>Against_All_authority</td>\n",
              "      <td>Against_All_authority</td>\n",
              "    </tr>\n",
              "    <tr>\n",
              "      <th>2</th>\n",
              "      <td>Against_All_authority</td>\n",
              "      <td>TSM</td>\n",
              "      <td>Against_All_authority</td>\n",
              "    </tr>\n",
              "    <tr>\n",
              "      <th>3</th>\n",
              "      <td>Epik_Gamer</td>\n",
              "      <td>TSM</td>\n",
              "      <td>TSM</td>\n",
              "    </tr>\n",
              "    <tr>\n",
              "      <th>4</th>\n",
              "      <td>TSM</td>\n",
              "      <td>Epik_Gamer</td>\n",
              "      <td>TSM</td>\n",
              "    </tr>\n",
              "  </tbody>\n",
              "</table>\n",
              "</div>"
            ],
            "text/plain": [
              "               blue_team               red_team                 winner\n",
              "0  Against_All_authority                 Fnatic                 Fnatic\n",
              "1                 Fnatic  Against_All_authority  Against_All_authority\n",
              "2  Against_All_authority                    TSM  Against_All_authority\n",
              "3             Epik_Gamer                    TSM                    TSM\n",
              "4                    TSM             Epik_Gamer                    TSM"
            ]
          },
          "execution_count": 52,
          "metadata": {},
          "output_type": "execute_result"
        }
      ],
      "source": [
        "gchart.head()"
      ]
    },
    {
      "cell_type": "code",
      "execution_count": 53,
      "metadata": {},
      "outputs": [
        {
          "data": {
            "text/plain": [
              "294.6666666666667"
            ]
          },
          "execution_count": 53,
          "metadata": {},
          "output_type": "execute_result"
        }
      ],
      "source": [
        "players_by_team_df.at[gchart['winner'][0], 'avg_gold/min']"
      ]
    },
    {
      "cell_type": "code",
      "execution_count": 54,
      "metadata": {},
      "outputs": [],
      "source": [
        "def gold_sub(key_df, str_df):\n",
        "    for match in str_df.index:\n",
        "        str_df['blue_team'][match] = key_df.at[str_df['blue_team'][match], 'avg_gold/min']\n",
        "        str_df['red_team'][match] = key_df.at[str_df['red_team'][match], 'avg_gold/min']\n",
        "        str_df['winner'][match] = key_df.at[str_df['winner'][match], 'avg_gold/min']\n",
        "    \n",
        "    return str_df"
      ]
    },
    {
      "cell_type": "code",
      "execution_count": 55,
      "metadata": {},
      "outputs": [
        {
          "name": "stderr",
          "output_type": "stream",
          "text": [
            "C:\\Users\\Jak\\AppData\\Local\\Temp\\ipykernel_20904\\1398445163.py:3: SettingWithCopyWarning: \n",
            "A value is trying to be set on a copy of a slice from a DataFrame\n",
            "\n",
            "See the caveats in the documentation: https://pandas.pydata.org/pandas-docs/stable/user_guide/indexing.html#returning-a-view-versus-a-copy\n",
            "  str_df['blue_team'][match] = key_df.at[str_df['blue_team'][match], 'avg_gold/min']\n",
            "C:\\Users\\Jak\\AppData\\Local\\Temp\\ipykernel_20904\\1398445163.py:4: SettingWithCopyWarning: \n",
            "A value is trying to be set on a copy of a slice from a DataFrame\n",
            "\n",
            "See the caveats in the documentation: https://pandas.pydata.org/pandas-docs/stable/user_guide/indexing.html#returning-a-view-versus-a-copy\n",
            "  str_df['red_team'][match] = key_df.at[str_df['red_team'][match], 'avg_gold/min']\n",
            "C:\\Users\\Jak\\AppData\\Local\\Temp\\ipykernel_20904\\1398445163.py:5: SettingWithCopyWarning: \n",
            "A value is trying to be set on a copy of a slice from a DataFrame\n",
            "\n",
            "See the caveats in the documentation: https://pandas.pydata.org/pandas-docs/stable/user_guide/indexing.html#returning-a-view-versus-a-copy\n",
            "  str_df['winner'][match] = key_df.at[str_df['winner'][match], 'avg_gold/min']\n"
          ]
        },
        {
          "data": {
            "text/html": [
              "<div>\n",
              "<style scoped>\n",
              "    .dataframe tbody tr th:only-of-type {\n",
              "        vertical-align: middle;\n",
              "    }\n",
              "\n",
              "    .dataframe tbody tr th {\n",
              "        vertical-align: top;\n",
              "    }\n",
              "\n",
              "    .dataframe thead th {\n",
              "        text-align: right;\n",
              "    }\n",
              "</style>\n",
              "<table border=\"1\" class=\"dataframe\">\n",
              "  <thead>\n",
              "    <tr style=\"text-align: right;\">\n",
              "      <th></th>\n",
              "      <th>blue_team</th>\n",
              "      <th>red_team</th>\n",
              "      <th>winner</th>\n",
              "    </tr>\n",
              "  </thead>\n",
              "  <tbody>\n",
              "    <tr>\n",
              "      <th>0</th>\n",
              "      <td>278.0</td>\n",
              "      <td>294.666667</td>\n",
              "      <td>294.666667</td>\n",
              "    </tr>\n",
              "    <tr>\n",
              "      <th>1</th>\n",
              "      <td>294.666667</td>\n",
              "      <td>278.0</td>\n",
              "      <td>278.0</td>\n",
              "    </tr>\n",
              "    <tr>\n",
              "      <th>2</th>\n",
              "      <td>278.0</td>\n",
              "      <td>285.6</td>\n",
              "      <td>278.0</td>\n",
              "    </tr>\n",
              "    <tr>\n",
              "      <th>3</th>\n",
              "      <td>274.0</td>\n",
              "      <td>285.6</td>\n",
              "      <td>285.6</td>\n",
              "    </tr>\n",
              "    <tr>\n",
              "      <th>4</th>\n",
              "      <td>285.6</td>\n",
              "      <td>274.0</td>\n",
              "      <td>285.6</td>\n",
              "    </tr>\n",
              "    <tr>\n",
              "      <th>5</th>\n",
              "      <td>294.666667</td>\n",
              "      <td>278.0</td>\n",
              "      <td>294.666667</td>\n",
              "    </tr>\n",
              "    <tr>\n",
              "      <th>6</th>\n",
              "      <td>278.0</td>\n",
              "      <td>294.666667</td>\n",
              "      <td>294.666667</td>\n",
              "    </tr>\n",
              "    <tr>\n",
              "      <th>7</th>\n",
              "      <td>294.666667</td>\n",
              "      <td>274.0</td>\n",
              "      <td>294.666667</td>\n",
              "    </tr>\n",
              "    <tr>\n",
              "      <th>8</th>\n",
              "      <td>274.0</td>\n",
              "      <td>294.666667</td>\n",
              "      <td>294.666667</td>\n",
              "    </tr>\n",
              "    <tr>\n",
              "      <th>9</th>\n",
              "      <td>285.6</td>\n",
              "      <td>278.0</td>\n",
              "      <td>278.0</td>\n",
              "    </tr>\n",
              "    <tr>\n",
              "      <th>10</th>\n",
              "      <td>278.0</td>\n",
              "      <td>285.6</td>\n",
              "      <td>278.0</td>\n",
              "    </tr>\n",
              "    <tr>\n",
              "      <th>11</th>\n",
              "      <td>285.6</td>\n",
              "      <td>278.0</td>\n",
              "      <td>285.6</td>\n",
              "    </tr>\n",
              "    <tr>\n",
              "      <th>12</th>\n",
              "      <td>244.0</td>\n",
              "      <td>259.8</td>\n",
              "      <td>259.8</td>\n",
              "    </tr>\n",
              "    <tr>\n",
              "      <th>13</th>\n",
              "      <td>294.666667</td>\n",
              "      <td>259.8</td>\n",
              "      <td>294.666667</td>\n",
              "    </tr>\n",
              "    <tr>\n",
              "      <th>14</th>\n",
              "      <td>259.8</td>\n",
              "      <td>294.666667</td>\n",
              "      <td>294.666667</td>\n",
              "    </tr>\n",
              "    <tr>\n",
              "      <th>15</th>\n",
              "      <td>278.0</td>\n",
              "      <td>244.0</td>\n",
              "      <td>278.0</td>\n",
              "    </tr>\n",
              "    <tr>\n",
              "      <th>16</th>\n",
              "      <td>285.6</td>\n",
              "      <td>244.0</td>\n",
              "      <td>285.6</td>\n",
              "    </tr>\n",
              "    <tr>\n",
              "      <th>17</th>\n",
              "      <td>259.8</td>\n",
              "      <td>276.0</td>\n",
              "      <td>259.8</td>\n",
              "    </tr>\n",
              "    <tr>\n",
              "      <th>18</th>\n",
              "      <td>285.6</td>\n",
              "      <td>259.8</td>\n",
              "      <td>285.6</td>\n",
              "    </tr>\n",
              "    <tr>\n",
              "      <th>19</th>\n",
              "      <td>244.0</td>\n",
              "      <td>276.0</td>\n",
              "      <td>244.0</td>\n",
              "    </tr>\n",
              "    <tr>\n",
              "      <th>20</th>\n",
              "      <td>285.6</td>\n",
              "      <td>276.0</td>\n",
              "      <td>276.0</td>\n",
              "    </tr>\n",
              "    <tr>\n",
              "      <th>21</th>\n",
              "      <td>244.0</td>\n",
              "      <td>259.8</td>\n",
              "      <td>259.8</td>\n",
              "    </tr>\n",
              "    <tr>\n",
              "      <th>22</th>\n",
              "      <td>278.0</td>\n",
              "      <td>215.4</td>\n",
              "      <td>278.0</td>\n",
              "    </tr>\n",
              "    <tr>\n",
              "      <th>23</th>\n",
              "      <td>274.0</td>\n",
              "      <td>294.666667</td>\n",
              "      <td>274.0</td>\n",
              "    </tr>\n",
              "    <tr>\n",
              "      <th>24</th>\n",
              "      <td>278.0</td>\n",
              "      <td>294.666667</td>\n",
              "      <td>278.0</td>\n",
              "    </tr>\n",
              "    <tr>\n",
              "      <th>25</th>\n",
              "      <td>274.0</td>\n",
              "      <td>215.4</td>\n",
              "      <td>274.0</td>\n",
              "    </tr>\n",
              "    <tr>\n",
              "      <th>26</th>\n",
              "      <td>294.666667</td>\n",
              "      <td>215.4</td>\n",
              "      <td>294.666667</td>\n",
              "    </tr>\n",
              "    <tr>\n",
              "      <th>27</th>\n",
              "      <td>278.0</td>\n",
              "      <td>274.0</td>\n",
              "      <td>274.0</td>\n",
              "    </tr>\n",
              "  </tbody>\n",
              "</table>\n",
              "</div>"
            ],
            "text/plain": [
              "     blue_team    red_team      winner\n",
              "0        278.0  294.666667  294.666667\n",
              "1   294.666667       278.0       278.0\n",
              "2        278.0       285.6       278.0\n",
              "3        274.0       285.6       285.6\n",
              "4        285.6       274.0       285.6\n",
              "5   294.666667       278.0  294.666667\n",
              "6        278.0  294.666667  294.666667\n",
              "7   294.666667       274.0  294.666667\n",
              "8        274.0  294.666667  294.666667\n",
              "9        285.6       278.0       278.0\n",
              "10       278.0       285.6       278.0\n",
              "11       285.6       278.0       285.6\n",
              "12       244.0       259.8       259.8\n",
              "13  294.666667       259.8  294.666667\n",
              "14       259.8  294.666667  294.666667\n",
              "15       278.0       244.0       278.0\n",
              "16       285.6       244.0       285.6\n",
              "17       259.8       276.0       259.8\n",
              "18       285.6       259.8       285.6\n",
              "19       244.0       276.0       244.0\n",
              "20       285.6       276.0       276.0\n",
              "21       244.0       259.8       259.8\n",
              "22       278.0       215.4       278.0\n",
              "23       274.0  294.666667       274.0\n",
              "24       278.0  294.666667       278.0\n",
              "25       274.0       215.4       274.0\n",
              "26  294.666667       215.4  294.666667\n",
              "27       278.0       274.0       274.0"
            ]
          },
          "execution_count": 55,
          "metadata": {},
          "output_type": "execute_result"
        }
      ],
      "source": [
        "gold_sub(players_by_team_df, gchart)"
      ]
    },
    {
      "cell_type": "code",
      "execution_count": 56,
      "metadata": {},
      "outputs": [],
      "source": [
        "gchart = gchart.astype(float)"
      ]
    },
    {
      "cell_type": "code",
      "execution_count": 57,
      "metadata": {},
      "outputs": [],
      "source": [
        "x = gchart[['blue_team', 'red_team']]\n",
        "y = gchart['winner']"
      ]
    },
    {
      "cell_type": "code",
      "execution_count": 58,
      "metadata": {},
      "outputs": [],
      "source": [
        "x_train, x_test, y_train, y_test = train_test_split(x, y, random_state=42, test_size=0.2)"
      ]
    },
    {
      "cell_type": "code",
      "execution_count": 59,
      "metadata": {},
      "outputs": [],
      "source": [
        "model_lr = make_pipeline(\n",
        "    LabelEncoder(),\n",
        "    StandardScaler(),\n",
        "    LogisticRegression()\n",
        ")"
      ]
    }
  ],
  "metadata": {
    "colab": {
      "collapsed_sections": [
        "IWsIZoRtA1UE",
        "IRyQ7e1EA6lZ",
        "fg-FeCkQA_vp"
      ],
      "provenance": []
    },
    "kernelspec": {
      "display_name": "Python 3",
      "language": "python",
      "name": "python3"
    },
    "language_info": {
      "codemirror_mode": {
        "name": "ipython",
        "version": 3
      },
      "file_extension": ".py",
      "mimetype": "text/x-python",
      "name": "python",
      "nbconvert_exporter": "python",
      "pygments_lexer": "ipython3",
      "version": "3.9.8"
    },
    "vscode": {
      "interpreter": {
        "hash": "281f3b0f4dedc6a5c986312fdccae2bf230a38ca0b908facc5eb6dc34524b739"
      }
    }
  },
  "nbformat": 4,
  "nbformat_minor": 0
}
